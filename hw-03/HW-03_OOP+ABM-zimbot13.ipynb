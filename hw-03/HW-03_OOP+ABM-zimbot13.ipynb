{
 "cells": [
  {
   "cell_type": "markdown",
   "metadata": {},
   "source": [
    "# Homework Assignment #3 (Individual)\n",
    "## Simulating populations using OOP and ABM  (135 pts total, 135 pts == 100%)"
   ]
  },
  {
   "cell_type": "markdown",
   "metadata": {},
   "source": [
    "### <p style=\"text-align: right;\"> &#9989; Ted Zimbo</p>\n",
    "### <p style=\"text-align: right;\"> &#9989; zimbot13</p>"
   ]
  },
  {
   "cell_type": "markdown",
   "metadata": {},
   "source": [
    "<img src=\"https://i.ibb.co/mNpTrnt/Rock-paper-scissors.png\" width=300px align='left'  style=\"margin-right: 20px\" >\n",
    "\n",
    "## Rock-Paper-Scissors(-Lizard-Spock)\n",
    "\n",
    "### Goal for this homework assignment\n",
    "By now, you have learned OOP and ABM through the assignments of assembling Zoo and Superbugs, respectively. Let us use what you learned to build a simple model of population competition between three different species in a simple model built after [Rock-Paper-Scissors](https://en.wikipedia.org/wiki/Rock_paper_scissors). \n",
    "\n",
    "**This assignment is due roughly two weeks from now at 11:59 pm on Sunday, October 24.** *Note*: Due to the proximity of the standard Friday homework deadline to the midterm, we're giving you an extra couple days, but keep in mind there will NOT be helproom hours during the weekend, so try to start early enough to get help with the assignment!\n",
    "\n",
    "When you're finished, it should be uploaded into the \"Homework Assignments\" submission folder for Homework #3.  Submission instructions can be found at the end of the notebook. **The distribution of points can be found in the section headers**."
   ]
  },
  {
   "cell_type": "markdown",
   "metadata": {},
   "source": [
    "**At the end of the assignment, if everything went as intended, you should have a population evolution plot like the one below.** \n",
    "\n",
    "<img src=\"https://i.ibb.co/DpYsq1d/populations.png\" alt=\"Populations\" border=\"0\" width=600px>\n",
    "\n",
    "This plot should help you to determine if your code is headed in the right direction!"
   ]
  },
  {
   "cell_type": "markdown",
   "metadata": {},
   "source": [
    "---\n",
    "## Part 1: Add to your Git repository to track your progress on your assignment (5 points)\n",
    "\n",
    "As usual, for this assignment, you're going to add it to the `cmse202-f21-turnin` repository you created in class so that you can track your progress on the assignment and preserve the final version that you turn in. In order to do this you need to\n",
    "\n",
    "**&#9989; Do the following**:\n",
    "\n",
    "1. Navigate to your `cmse202-f21-turnin` repository and create a new directory called `hw-03`.\n",
    "2. Move this notebook into that **new directory** in your repository, then **add it and commit it to your repository**.\n",
    "1. Finally, to test that everything is working, \"git push\" the file so that it ends up in your GitHub repository.\n",
    "\n",
    "**Important**: Make sure you've added your Professor and your TA as collaborators to your \"turnin\" respository with \"Read\" access so that we can see your assignment (you should have done this in the previous homework assignment)\n",
    "\n",
    "**Also important**: Make sure that the version of this notebook that you are working on is the same one that you just added to your repository! If you are working on a different copy of the noteobok, **none of your changes will be tracked**!\n",
    "\n",
    "If everything went as intended, the file should now show up on your GitHub account in the \"`cmse202-f21-turnin`\" repository inside the `hw-03` directory that you just created.  Periodically, **you'll be asked to commit your changes to the repository and push them to the remote GitHub location**. Of course, you can always commit your changes more often than that, if you wish.  It can be good to get into a habit of committing your changes any time you make a significant modification, or when you stop working on the project for a bit.\n",
    "\n",
    "**Do this**: Before you move on, put the command that your instructor should run to clone your repository in the markdown cell below."
   ]
  },
  {
   "cell_type": "markdown",
   "metadata": {},
   "source": [
    "``` bash\n",
    "# Put the command for cloning your repository here!\n",
    "git clone https://github.com/zimbot13/cmse202-f21-turnin/tree/main/hw-03\n",
    "```"
   ]
  },
  {
   "cell_type": "markdown",
   "metadata": {},
   "source": [
    "---\n",
    "## Part 2: Load necessary modules\n",
    "\n",
    "Execute the next two Code cells to load python packages for math and visualization functions."
   ]
  },
  {
   "cell_type": "code",
   "execution_count": 1,
   "metadata": {},
   "outputs": [],
   "source": [
    "import random \n",
    "import numpy as np\n",
    "import math\n",
    "import matplotlib.pyplot as plt\n",
    "import time  \n",
    "from IPython.display import display, clear_output"
   ]
  },
  {
   "cell_type": "markdown",
   "metadata": {},
   "source": [
    "---\n",
    "## Part 3: Problem Statement\n",
    "\n",
    "You are creating a simple ecosystem containing three types of populations (you can imagine these to be animals, bacteria or something similar) on the computer.  \n",
    "\n",
    "1. **In your environment, there are three different animals: \"Rock Animals\", \"Paper Animals\" and \"Scissors Animals\".** ==> You will create a generic `Animal` class and derived classes for each of the specific animals.\n",
    "2. **In our model, animals will not move from where they start.**\n",
    "3. **The animals reproduce.** ==> All derived objectcs will have a method of reproduce/duplicate/clone over a given period. Their offspring will appear in a neigboring spot.\n",
    "4. **Each animal has a certain energy level. If an animal reproduces, it will first lose 1 unit of energy and split into two: it will keep half of its energy for itself and give its offspring the other half.** ==> You will write a `reproduce` method that will find an empty neighboring spot in the world, creates a clone of itself (same animal type) and assigns it to that empty spot.\n",
    "5. **The environment has a boundary.** ==> No animals can exist outside of this boundary.\n",
    "6. **Animals will be able to consume each other in a cyclical way modeled after Rock-Paper-Scissors.** ==> You will write code that allows them to \"eat\" a certain kind of different animal only. \"Rock 'eats' (beats) scissors\", \"scissors beats paper\" and \"paper beats rock\".\n",
    "7. **Note here** your main tasks are creating a generic `Animal` object and an object for each animal type that derives from `Animal`. The code to verify the created classes and run simulations is already functioning. No need to modify them. You are encouraged to take a look of those code to ensure your objects will be compatible with them before you create the objects.\n"
   ]
  },
  {
   "cell_type": "markdown",
   "metadata": {},
   "source": [
    "---\n",
    "## Part 3.1 Animal object (15 pt)\n",
    "**Step by step. Let's start with creating an `Animal` object.** The object should contain the attributes of\n",
    "- Energy: An energy level represented by a positive floating point number. The class should initialize this number to a starting energy that is given as an argument to the class.\n",
    "- **Important**: Add Docstrings to explain your code. Without any Docstrings, **your score will be compromised**. (5 pt for docstrings, 10 pt for the code)\n",
    "- You can find an outline of the class below. You will need to implement `__init__` and `get_energy()`.\n",
    "  - The `__init__` method has one argument (besides `self`) called `starting_energy`. You should make sure that this value is stored as an attribute called `self.energy` and that `get_energy()` returns the current value of the attribute.\n",
    "- Note that the class given below contains more stub functions (`get_rgb`, `get_kind_name`, `can_eat`, `clone`, `eat`, and `reproduce`). You do not have to change them at this point and do not need to provide docstrings for them right now.\n",
    "- Finally, **create a Animal object called `animal`** and set its initial energy to 100 .\n",
    "\n",
    "So, to summarize, in the cell below, do this:\n",
    "1. Implement the class constructor `__init__` as outlined above\n",
    "2. Make sure that the constructor initializes an attribute called `self.energy` and sets its value to `starting_energy`\n",
    "3. Implement the function `get_energy()` to return the current energy\n",
    "4. Add Docstrings to the overall class, the constructor and to `get_energy()`"
   ]
  },
  {
   "cell_type": "code",
   "execution_count": 5,
   "metadata": {},
   "outputs": [],
   "source": [
    "### Modify the code below as explained.\n",
    "### Start with the class skeleton provided and implement the constructor and `get_energy()`.\n",
    "### Also add Docstrings to these two functions and to the class overall (no need for docstrings for the other stub functions).\n",
    "\n",
    "class Animal:\n",
    "    def __init__(self, starting_energy):\n",
    "        '''\n",
    "        Animal object with an energy level equal to starting_energy\n",
    "        '''\n",
    "        self.energy = starting_energy\n",
    "    def get_energy(self):\n",
    "        '''Returns the energy value'''\n",
    "        return self.energy\n",
    "\n",
    "    def get_rgb(self):\n",
    "        pass # to be implemented by derived classes\n",
    "\n",
    "    def get_kind_name(self):\n",
    "        pass # to be implemented by derived classes\n",
    "\n",
    "    def can_eat(self, other_animal):\n",
    "        pass # to be implemented by derived classes\n",
    "\n",
    "    def clone(self):\n",
    "        pass # to be implemented by derived classes\n",
    "\n",
    "    def eat(self, env, neighbor_spots):\n",
    "        pass # will be implemented later\n",
    "\n",
    "    def reproduce(self, env, neighbor_spots):\n",
    "        pass # will be implemented later\n",
    "\n",
    "### IMPLEMENT THIS: Add code here to create an Animal object called `animal` here and set its initial energy to 100.\n"
   ]
  },
  {
   "cell_type": "markdown",
   "metadata": {},
   "source": [
    "- Now do this: Now that your class is defined, create an instance of the `Animal` class with an energy of 100."
   ]
  },
  {
   "cell_type": "code",
   "execution_count": 8,
   "metadata": {},
   "outputs": [],
   "source": [
    "### In this cell, do this: create an instance of the `Animal` class with an energy of 100.\n",
    "animal = Animal(100)\n"
   ]
  },
  {
   "cell_type": "markdown",
   "metadata": {},
   "source": [
    "### Once your code is implemented, running the following cell should print \"The animal has an energy of 100.\""
   ]
  },
  {
   "cell_type": "code",
   "execution_count": 9,
   "metadata": {},
   "outputs": [
    {
     "name": "stdout",
     "output_type": "stream",
     "text": [
      "The animal has an energy of 100.\n"
     ]
    }
   ],
   "source": [
    "energy = animal.get_energy()\n",
    "print(\"The animal has an energy of {0}.\".format(energy))"
   ]
  },
  {
   "cell_type": "markdown",
   "metadata": {},
   "source": [
    "---\n",
    "### &#128721; STOP\n",
    "**Pause to commit your changes to your Git repository!**\n",
    "\n",
    "Take a moment to save your notebook, commit the changes to your Git repository using the commit message \"version 1 of Animal\", and push the changes to GitHub.\n",
    "\n",
    "---"
   ]
  },
  {
   "cell_type": "markdown",
   "metadata": {},
   "source": [
    "---\n",
    "## Part 3.2 Specific animal objects derived from Animal (25 pt)\n",
    "\n",
    "In this section you will create one of three classes. Each of the classes will be derived from the `Animal` class you defined previously. We will start with one of these classes first.\n",
    "\n",
    "- Create a class called `Rock_Animal` and derive it from `Animal`. This means that `Rock_Animal` should **inherit** the `Animal` class.\n",
    "- Implement (and therefore override the version from the `Animal` class) the following methods from Animal in your new derived object, `Rock_Animal`:\n",
    "  - `get_rgb(self)`: This method should return a tuple made of three floating point numbers defining the RGB color that this animal will be represented by. For example, for red you would return `(1.,0.,0.)`. Choose a color you like.\n",
    "    - You will use two more colors later on. You are free to choose three different colors, such as just red, green and blue, but there are other color palettes out there that might be more suitable for anyone who might be color blind. There are many resources on the internet on this, one example that might be useful is [this web page](https://davidmathlogic.com/colorblind/). The color scale you choose will not be graded, of course.\n",
    "  - `get_kind_name(self)`: This method should return the name of the kind of animal. You can choose any name you like, but in this case something like `\"rock\"` might be a good idea.\n",
    "  - `can_eat(self, other_animal)`: This method should return a boolean value (`True` or `False`). Its argument `other_animal` will be another instance of a class derived from `Animal`. If the other animal is one that we can eat it should return `True`, otherwise it should return `False`. You might want to call `get_kind_name()` from this function and check the name of the other animal. If it is `\"scissors\"`, we can eat it, otherwise we cannot (\"rock beats scissors\").\n",
    "  - `clone(self)`: This method should return a *new* instance of the `Rock_Animal` class, initialized to half the energy the current we currently have. It should also reduce the current energy of the `Rock_Animal` itself by half. (Thus simulating \"splitting\" the animal into two pieces of the same kind with half the energy as the original one/providing half of its energy to its offspring.) [Note that it is not necesary to deal with the part where animals lose \"1 unit of energy\" before they reproduce in `clone()` itself as this will be taken care of later by the `reproduce()` function.]\n",
    "    - ==> So clone should reduce the current energy by half then create a **new** `Rock_Animal` and inititalize that new animal to the new, halved, energy level. This new `Rock_Animal` should then be returned by the `clone` function.\n",
    "  - (Note: We will deal with defining the `eat()` and `reproduce()` functions from the `Animal` class later on. These functions will be part of the `Animal` class, but you can ignore them for now. Specifically, they should not be part of your derived class.)"
   ]
  },
  {
   "cell_type": "code",
   "execution_count": 23,
   "metadata": {},
   "outputs": [],
   "source": [
    "### put your code of creating the derived class `Rock_Animal` in this cell\n",
    "\n",
    "class Rock_Animal(Animal):\n",
    "    \n",
    "    def get_rgb(self):\n",
    "        return (1.0,0.0,0.0)\n",
    "    \n",
    "    def get_kind_name(self):\n",
    "        return 'rock'\n",
    "    \n",
    "    def can_eat(self, other_animal):\n",
    "        if(other_animal.get_kind_name() == 'scissors'):\n",
    "            return True\n",
    "        else:\n",
    "            return False\n",
    "        \n",
    "    def clone(self):\n",
    "        self.energy = self.energy/2\n",
    "        return Rock_Animal(self.energy)"
   ]
  },
  {
   "cell_type": "markdown",
   "metadata": {},
   "source": [
    "---\n",
    "## Part 3.3 Create two more animal classes (25 pt)\n",
    "\n",
    "Now, create two more classes, one of them called `Paper_Animal` and one of them called `Scissors_Animal`. They should look like `Rock_Animal` previously with these differences:\n",
    "\n",
    "- Each of them should have a different color from each other and different from `Rock_Animal`.\n",
    "- Their names returned by `get_kind_name()` should be different for each class. Use `\"scissors\"` for `Scissors_Animal` and `\"paper\"` for `Paper_Animal`.\n",
    "- The `can_eat()` function needs to be updated to follow the \"rock-paper-scissors\" rules:\n",
    "  - rock beats (\"can eat\") scissors\n",
    "  - scissors beats (\"can eat\") paper\n",
    "  - paper beats (\"can eat\") rock\n",
    "- Each of the `clone()` functions needs to return an animal object of the same kind. So make sure that `clone()` for `Scissors_Animal` actually returns a `Scissors_Animal` instance. The rules for energy splitting are the same as before."
   ]
  },
  {
   "cell_type": "code",
   "execution_count": 24,
   "metadata": {},
   "outputs": [],
   "source": [
    "### put your code of creating the derived classes `Paper_Animal` and `Scissors_Animal` in this cell (10 pt)\n",
    "\n",
    "class Paper_Animal(Animal):\n",
    "    \n",
    "    def get_rgb(self):\n",
    "        return (0.0,1.0,0.0)\n",
    "    \n",
    "    def get_kind_name(self):\n",
    "        return 'paper'\n",
    "    \n",
    "    def can_eat(self, other_animal):\n",
    "        if(other_animal.get_kind_name() == 'rock'):\n",
    "            return True\n",
    "        else:\n",
    "            return False\n",
    "        \n",
    "    def clone(self):\n",
    "        self.energy = self.energy/2\n",
    "        return Paper_Animal(self.energy)\n",
    "\n",
    "    \n",
    "class Scissors_Animal(Animal):\n",
    "    \n",
    "    def get_rgb(self):\n",
    "        return (0.0,0.0,1.0)\n",
    "    \n",
    "    def get_kind_name(self):\n",
    "        return 'scissors'\n",
    "    \n",
    "    def can_eat(self, other_animal):\n",
    "        if(other_animal.get_kind_name() == 'paper'):\n",
    "            return True\n",
    "        else:\n",
    "            return False\n",
    "        \n",
    "    def clone(self):\n",
    "        self.energy = self.energy/2\n",
    "        return Scissors_Animal(self.energy)"
   ]
  },
  {
   "cell_type": "markdown",
   "metadata": {},
   "source": [
    "- Now run the cell below. It should finish without error. You can see it testing some of the assumption we made above and some of the intital definitions as a \"unit tests\", each one a test for a small logical unit of code. If everything works as expected, none of the `assert` statements will produce any output. There is a `print` statement at the end of the cell that, once reached, will just print a message that everything worked. Each `assert` line below checks a certain assumption. If your classes are implemented as expected, none of them should fail. If one *does* fail, try to go back and correct your code above accordingly."
   ]
  },
  {
   "cell_type": "code",
   "execution_count": 35,
   "metadata": {},
   "outputs": [
    {
     "name": "stdout",
     "output_type": "stream",
     "text": [
      "All checks passed, everything is working as expected.\n"
     ]
    }
   ],
   "source": [
    "# test 01 - create objects\n",
    "rock = Rock_Animal(100)\n",
    "paper = Paper_Animal(100)\n",
    "scissors = Scissors_Animal(100) \n",
    "\n",
    "# test 02 - are the classes derived from `Animal`?\n",
    "assert isinstance(rock, Animal), \"Rock_Animal is not derived from Animal\"\n",
    "assert isinstance(paper, Animal), \"Paper_Animal is not derived from Animal\"\n",
    "assert isinstance(scissors, Animal), \"Scissors_Animal is not derived from Animal\"\n",
    "\n",
    "# test 03 - make sure the energy is 100\n",
    "assert rock.get_energy() == 100, \"The energy of the rock animal should be 100\"\n",
    "assert abs(paper.get_energy() - 100.) < 1e-5, \"The energy of the paper animal should be 100\"\n",
    "assert abs(scissors.get_energy() - 100.) < 1e-5, \"The energy of the scissors animal should be 100\"\n",
    "\n",
    "# test 04 - make sure that the objects have an attribute called `energy` and that the value is the same as the value returned by `get_energy()`\n",
    "assert rock.energy == rock.get_energy(), \"rock: self.energy is not an attribute of the class or its value is different from what `get_energy()` returns\"\n",
    "assert paper.energy == paper.get_energy(), \"paper: self.energy is not an attribute of the class or its value is different from what `get_energy()` returns\"\n",
    "assert scissors.energy == scissors.get_energy(), \"rock: self.energy is not an attribute of the class or its value is different from what `get_energy()` returns\"\n",
    "\n",
    "# test 05 - make sure that the rgb colors are in a valid form\n",
    "assert len(rock.get_rgb()) == 3, \"The RGB color for `rock` should have 3 entries\"\n",
    "assert (rock.get_rgb()[0] >= 0.) and (rock.get_rgb()[0] <= 1.), \"The R component ([0]) of the color for `rock` needs to be a value between 0 and 1\"\n",
    "assert (rock.get_rgb()[1] >= 0.) and (rock.get_rgb()[1] <= 1.), \"The G component ([1]) of the color for `rock` needs to be a value between 0 and 1\"\n",
    "assert (rock.get_rgb()[2] >= 0.) and (rock.get_rgb()[2] <= 1.), \"The B component ([2]) of the color for `rock` needs to be a value between 0 and 1\"\n",
    "assert len(paper.get_rgb()) == 3, \"The RGB color for `paper` should have 3 entries\"\n",
    "assert (paper.get_rgb()[0] >= 0.) and (paper.get_rgb()[0] <= 1.), \"The R component ([0]) of the color for `paper` needs to be a value between 0 and 1\"\n",
    "assert (paper.get_rgb()[1] >= 0.) and (paper.get_rgb()[1] <= 1.), \"The G component ([1]) of the color for `paper` needs to be a value between 0 and 1\"\n",
    "assert (paper.get_rgb()[2] >= 0.) and (paper.get_rgb()[2] <= 1.), \"The B component ([2]) of the color for `paper` needs to be a value between 0 and 1\"\n",
    "assert len(paper.get_rgb()) == 3, \"The RGB color for `scissors` should have 3 entries\"\n",
    "assert (scissors.get_rgb()[0] >= 0.) and (scissors.get_rgb()[0] <= 1.), \"The R component ([0]) of the color for `scissors` needs to be a value between 0 and 1\"\n",
    "assert (scissors.get_rgb()[1] >= 0.) and (scissors.get_rgb()[1] <= 1.), \"The G component ([1]) of the color for `scissors` needs to be a value between 0 and 1\"\n",
    "assert (scissors.get_rgb()[2] >= 0.) and (scissors.get_rgb()[2] <= 1.), \"The B component ([2]) of the color for `scissors` needs to be a value between 0 and 1\"\n",
    "\n",
    "# test 06 - make sure the colors are different\n",
    "assert rock.get_rgb() != paper.get_rgb(), \"Rock and Paper colors are the same!\"\n",
    "assert rock.get_rgb() != scissors.get_rgb(), \"Rock and Scissors colors are the same!\"\n",
    "assert paper.get_rgb() != scissors.get_rgb(), \"Paper and Scissors colors are the same!\"\n",
    "\n",
    "# test 07 - make sure get_kind_name() returns a string\n",
    "assert isinstance(rock.get_kind_name(), str), \"rock.get_kind_name() does not return a string\"\n",
    "assert isinstance(paper.get_kind_name(), str), \"paper.get_kind_name() does not return a string\"\n",
    "assert isinstance(scissors.get_kind_name(), str), \"scissors.get_kind_name() does not return a string\"\n",
    "\n",
    "# test 08 - make sure get_kind_name() return *different* strings\n",
    "assert rock.get_kind_name() != paper.get_kind_name(), \"Rock and Paper kind names are the same!\"\n",
    "assert rock.get_kind_name() != scissors.get_kind_name(), \"Rock and Scissors kind names are the same!\"\n",
    "assert paper.get_kind_name() != scissors.get_kind_name(), \"Paper and Scissors kind names are the same!\"\n",
    "\n",
    "# test 09 - make sure that the \"rock paper scissors\" rules are followed when calling can_eat()\n",
    "assert not rock.can_eat(rock), \"rock *can* eat rock\"\n",
    "assert not rock.can_eat(paper), \"rock *can* eat paper\"\n",
    "assert rock.can_eat(scissors), \"rock *can not* eat scissors\"\n",
    "assert paper.can_eat(rock), \"paper *can not* eat rock\"\n",
    "assert not paper.can_eat(paper), \"paper *can* eat paper\"\n",
    "assert not paper.can_eat(scissors), \"paper *can* eat scissors\"\n",
    "assert not scissors.can_eat(rock), \"scissors *can* eat rock\"\n",
    "assert scissors.can_eat(paper), \"scissors *can not* eat paper\"\n",
    "assert not scissors.can_eat(scissors), \"scissors *can* eat scissors\"\n",
    "\n",
    "# test 10 - make sure that clone() returns an object of the same kind\n",
    "assert isinstance(rock.clone(), Rock_Animal), \"rock.clone() does not return an instance of Rock_Animal\"\n",
    "assert isinstance(paper.clone(), Paper_Animal), \"paper.clone() does not return an instance of Paper_Animal\"\n",
    "assert isinstance(scissors.clone(), Scissors_Animal), \"scissors.clone() does not return an instance of Scissors_Animal\"\n",
    "\n",
    "# test 11 - make sure that the energy levels returned are correct (should be 25 now)\n",
    "assert abs(rock.clone().get_energy() - 25.) < 1e-5, \"The energy of the animal retruned by rock.clone() should be 25\"\n",
    "assert abs(paper.clone().get_energy() - 25.) < 1e-5, \"The energy of the animal retruned by paper.clone() should be 25\"\n",
    "assert abs(scissors.clone().get_energy() - 25.) < 1e-5, \"The energy of the animal retruned by scissors.clone() should be 25\"\n",
    "\n",
    "# If the code gets here, everything works as excepted\n",
    "print(\"All checks passed, everything is working as expected.\")"
   ]
  },
  {
   "cell_type": "markdown",
   "metadata": {},
   "source": [
    "The cell above uses `assert` to check assumptions. In the following markdown cell:\n",
    "\n",
    "1. Explain how `assert` works in python and how it can help make sure your code does the right thing. This is a new concept that you might have to do a bit of documentation reading and Google searching to understand. Remember, learning new skills independently is one of the skills we work to hone in 202!\n",
    "2. Also explain why the last test (number 09) checks for an energy of 25 instead of 50. (The initial energy is 100 and `clone()` returns an object that has half of the energy of the initial object.) (10 pt)"
   ]
  },
  {
   "cell_type": "markdown",
   "metadata": {},
   "source": [
    "<font size=+3>&#9998;</font> 1. assert does a check simialr to an if statment but throws and error if the statment is false. \n",
    "\n",
    "2. This is the second time the clone command was run so it will have gone from 100 to 50 and then from 50 to 25."
   ]
  },
  {
   "cell_type": "markdown",
   "metadata": {},
   "source": [
    "The tests related to energy use `abs()` and a difference between the expected and returned value and check if it is smaller than a very small number. See if you can find a reason why it doesn't just use the `==` operator here. Explain the reason in the markdown cell below. (5 pt)"
   ]
  },
  {
   "cell_type": "markdown",
   "metadata": {},
   "source": [
    "<font size=+3>&#9998;</font> When computers do floating point math it can result in very small errors creating small differnces in the numbers. By subtracting and using the abs function it assures that the value will be postive, meaning that a 'large' negative number wont pass the check. By comparing them to a very samll postive number it assures if there was a small differnce between these numbers it would still pass the check. "
   ]
  },
  {
   "cell_type": "markdown",
   "metadata": {},
   "source": [
    "---\n",
    "### &#128721; STOP\n",
    "**Pause to commit your changes to your Git repository!**\n",
    "\n",
    "Take a moment to save your notebook, commit the changes to your Git repository using the commit message \"Three Animal kinds\", and push the changes to GitHub.\n",
    "\n",
    "---"
   ]
  },
  {
   "cell_type": "markdown",
   "metadata": {},
   "source": [
    "---\n",
    "## Part 4 Run the model (30 pt)\n",
    "\n",
    "We will now define a class called `Environment` which will be used to run the simulation. This class is pre-defined and you will not need to change it. It makes use of the \"animal\" classes you wrote previously."
   ]
  },
  {
   "cell_type": "code",
   "execution_count": 36,
   "metadata": {},
   "outputs": [],
   "source": [
    "## Run this cell to define the Environment class\n",
    "\n",
    "class Environment:\n",
    "    def __init__(self, animal_kinds = [Rock_Animal, Paper_Animal, Scissors_Animal], num_animals_initial=1000, size_x=100, size_y=100, padding=20, inital_animal_energy=100):\n",
    "        self.size_x = size_x\n",
    "        self.size_y = size_y\n",
    "        self.inital_animal_energy = inital_animal_energy\n",
    "        self.animal_grid = [ ([None] * self.size_x) for row in range(self.size_y) ]\n",
    "\n",
    "        self.population_history = []\n",
    "        self.population_colors = dict()\n",
    "\n",
    "        for i in range(0,num_animals_initial):\n",
    "            # choose a random space on the grid\n",
    "            place_x = random.randint(padding, self.size_x-1-padding)\n",
    "            place_y = random.randint(padding, self.size_y-1-padding)\n",
    "\n",
    "            # if it is not empty, keep choosing new random spaces until we find an empty one\n",
    "            while self.has_animal(place_x, place_y):\n",
    "                place_x = random.randint(padding, self.size_x-1-padding)\n",
    "                place_y = random.randint(padding, self.size_y-1-padding)\n",
    "\n",
    "            # now choose one of the animal classes provided\n",
    "            Chosen_Animal_Class = random.choice(animal_kinds)\n",
    "\n",
    "            # instantiate the class to create an object and add it to the grid\n",
    "            new_animal = Chosen_Animal_Class(starting_energy=inital_animal_energy)\n",
    "            self.add_animal(place_x, place_y, new_animal)\n",
    "\n",
    "        self.update_population_history()\n",
    "\n",
    "    def update_population_history(self):\n",
    "        new_entry_dict = dict()\n",
    "\n",
    "        # make entries for all previous kinds that might have existed but are maybe now extinct\n",
    "        for h in self.population_history:\n",
    "            for kind_name in h.keys():\n",
    "                if kind_name not in new_entry_dict:\n",
    "                    new_entry_dict[kind_name]=0\n",
    "\n",
    "        for x in range(0,self.size_x):\n",
    "            for y in range(0,self.size_y):\n",
    "                if self.has_animal(x,y):\n",
    "                    this_animal = self.get_animal(x,y)\n",
    "                    kind_name = this_animal.get_kind_name()\n",
    "\n",
    "                    if kind_name not in self.population_colors:\n",
    "                        self.population_colors[kind_name] = this_animal.get_rgb()\n",
    "\n",
    "                    if kind_name not in new_entry_dict:\n",
    "                        new_entry_dict[kind_name]=0\n",
    "                    new_entry_dict[kind_name]+=1\n",
    "\n",
    "        self.population_history.append(new_entry_dict)\n",
    "\n",
    "    def add_animal(self, x, y, animal):\n",
    "        self.animal_grid[y][x] = animal\n",
    "\n",
    "    def remove_animal(self, x, y):\n",
    "        self.animal_grid[y][x] = None\n",
    "\n",
    "    def has_animal(self, x, y):\n",
    "        return self.animal_grid[y][x] is not None\n",
    "\n",
    "    def get_animal(self, x, y):\n",
    "        return self.animal_grid[y][x]\n",
    "\n",
    "    def is_inside_of_environment(self, x, y):\n",
    "        if x < 0 or x >= self.size_x: return False\n",
    "        if y < 0 or y >= self.size_y: return False\n",
    "        return True\n",
    "\n",
    "    def number_total(self):\n",
    "        num=0\n",
    "        for x in range(0,self.size_x):\n",
    "            for y in range(0,self.size_y):\n",
    "                if self.has_animal(x,y):\n",
    "                    num+=1\n",
    "        return num\n",
    "\n",
    "    def find_all_neighbors(self, x, y):\n",
    "        neighbor_spots = []\n",
    "        for other_x in [x-1, x, x+1]:\n",
    "            for other_y in [y-1, y, y+1]:\n",
    "                if self.is_inside_of_environment(other_x, other_y) and (not ((other_x==x) and (other_y==y))): \n",
    "                    neighbor_spots.append( (other_x, other_y) )\n",
    "        return neighbor_spots\n",
    "\n",
    "\n",
    "    def life_cycle(self):\n",
    "        # make sure to go through the animals in random order\n",
    "\n",
    "        # this makes a shuffled list of animals on the grid in random order\n",
    "        def shuffled_animal_list():\n",
    "            animals = []\n",
    "            for x in range(0,self.size_x):\n",
    "                for y in range(0,self.size_y):\n",
    "                    if self.has_animal(x,y):\n",
    "                        the_animal = self.get_animal(x,y)\n",
    "                        neighbor_spots = self.find_all_neighbors(x, y)\n",
    "                        animals.append( (the_animal, neighbor_spots) )\n",
    "            # shuffle the list and return it\n",
    "            random.shuffle(animals)\n",
    "            return animals\n",
    "\n",
    "        # give all animals a chance to eat one of their neighbors\n",
    "        animals = shuffled_animal_list()\n",
    "        for the_animal, neighbor_spots in animals:\n",
    "            the_animal.eat(self, neighbor_spots)\n",
    "\n",
    "        # give all animals a chance to reproduce into empty spots next to them\n",
    "        animals = shuffled_animal_list()\n",
    "        for the_animal, neighbor_spots in animals:\n",
    "            the_animal.reproduce(self, neighbor_spots)\n",
    "\n",
    "        # update the statistics for plotting\n",
    "        self.update_population_history()\n",
    "\n",
    "    def draw_grid(self, ax):\n",
    "        color_grid = np.zeros((self.size_x, self.size_y, 3))\n",
    "\n",
    "        max_energy = self.inital_animal_energy\n",
    "\n",
    "        for x in range(0,self.size_x):\n",
    "            for y in range(0,self.size_y):\n",
    "                this_rgb = (0.0, 0.0, 0.0)\n",
    "                if self.has_animal(x,y):\n",
    "                    the_animal = self.get_animal(x,y)\n",
    "                    this_rgb = the_animal.get_rgb()\n",
    "                    this_energy_mod = the_animal.get_energy()/max_energy\n",
    "                    if this_energy_mod > 1.: this_energy_mod=1.\n",
    "                    #this_rgb = ( this_rgb[0]*(this_energy_mod*0.8+0.2), this_rgb[1]*(this_energy_mod*0.8+0.2), this_rgb[2]*(this_energy_mod*0.8+0.2) )\n",
    "                color_grid[x, y, 0] = this_rgb[0]\n",
    "                color_grid[x, y, 1] = this_rgb[1]\n",
    "                color_grid[x, y, 2] = this_rgb[2]\n",
    "\n",
    "        ax.imshow(color_grid)\n",
    "\n",
    "    def draw_population(self, ax):\n",
    "        kinds = self.population_history[0].keys()\n",
    "\n",
    "        for kind in kinds:\n",
    "            this_population_array = []\n",
    "            for history_entry in self.population_history:\n",
    "                this_population_array.append(history_entry[kind])\n",
    "            ax.plot(range(len(this_population_array)), this_population_array, label=kind, color=self.population_colors[kind])\n",
    "\n",
    "        ax.set_ylabel(\"Population\")\n",
    "        ax.legend()\n"
   ]
  },
  {
   "cell_type": "markdown",
   "metadata": {},
   "source": [
    "- This is a lot of code with sparse documentation. Let's try to run it first using the next cell. **Make sure this cell actually plots something.** (5pts)"
   ]
  },
  {
   "cell_type": "code",
   "execution_count": 37,
   "metadata": {},
   "outputs": [
    {
     "data": {
      "image/png": "[encoded data removed]",
      "text/plain": [
       "<Figure size 576x576 with 1 Axes>"
      ]
     },
     "metadata": {
      "needs_background": "light"
     },
     "output_type": "display_data"
    }
   ],
   "source": [
    "env = Environment(animal_kinds = [Rock_Animal, Paper_Animal, Scissors_Animal], \n",
    "        num_animals_initial=200, \n",
    "        size_x=100, size_y=100, \n",
    "        padding=15, \n",
    "        inital_animal_energy=10000)\n",
    "\n",
    "\n",
    "fig = plt.figure(figsize=(8, 8))\n",
    "ax = fig.add_subplot(111)\n",
    "\n",
    "env.life_cycle()\n",
    "env.draw_grid(ax)\n"
   ]
  },
  {
   "cell_type": "markdown",
   "metadata": {},
   "source": [
    "- The output should show a plot like this:\n",
    "\n",
    "<img src=\"https://i.ibb.co/M1sxN2m/example01.png\" alt=\"Example Plot\" border=\"0\" width=300px>\n",
    "\n",
    "We will now do a bit of code review of the `Environment()` class. **All of the following written answers need to be at least a few sentences long in order to receive full credit.**\n",
    "\n",
    "**Explain what is shown in the plot.** (5 pt)"
   ]
  },
  {
   "cell_type": "markdown",
   "metadata": {},
   "source": [
    "<font size=+3>&#9998;</font> The plot shows a collection of animals of each kind, displaying them in random locations and using the rgb value to color them in. "
   ]
  },
  {
   "cell_type": "markdown",
   "metadata": {},
   "source": [
    "Try to read and understand what the `Environment()` class does and how it works.\n",
    "\n",
    "**In the next cell, explain what the `Environment` constructor does in some detail.** (You may need to remind yourself what part of the class the \"constructor\" is) (5 pt)"
   ]
  },
  {
   "cell_type": "markdown",
   "metadata": {},
   "source": [
    "<font size=+3>&#9998;</font> \n",
    "\n",
    "Sets the size of the grid\n",
    "\n",
    "Sets the inital energy for each animal\n",
    "\n",
    "Creates the grid as a list with the aforementioned ddimensions\n",
    "\n",
    "crates a list for the population history and a dictionary for colors\n",
    "   "
   ]
  },
  {
   "cell_type": "markdown",
   "metadata": {},
   "source": [
    "**Describe what the following 4 functions do, respectively: add_animal(), remove_animal(), has_animal(), get_animal().** (5 pt)\n",
    "\n",
    "Again, make sure to provide the necessary detail here, including what their arguments are and what they do."
   ]
  },
  {
   "cell_type": "markdown",
   "metadata": {},
   "source": [
    "<font size=+3>&#9998;</font> \n",
    "add_animal adds an animal at the specifed coordinates.\n",
    "\n",
    "remove_aniaml removes the animal at the specifed coordinates.\n",
    "\n",
    "has_animal returns true if there is an animal at the specifed coordinates and false if not.\n",
    "\n",
    "get_animal returns the animal at the specifed coordiantes. "
   ]
  },
  {
   "cell_type": "markdown",
   "metadata": {},
   "source": [
    "**Describe what the `life_cycle()` method does.** (5 pt)"
   ]
  },
  {
   "cell_type": "markdown",
   "metadata": {},
   "source": [
    "<font size=+3>&#9998;</font> "
   ]
  },
  {
   "cell_type": "markdown",
   "metadata": {},
   "source": [
    "**Explain what the `update_population_history()` tries to achieve and how it does its job.** (5 pt)"
   ]
  },
  {
   "cell_type": "markdown",
   "metadata": {},
   "source": [
    "<font size=+3>&#9998;</font> "
   ]
  },
  {
   "cell_type": "markdown",
   "metadata": {},
   "source": [
    "**Finally, describe if the simulation step performed will actually work in the current version of your code. If it does not, explain what is missing.** (5 pt)"
   ]
  },
  {
   "cell_type": "markdown",
   "metadata": {},
   "source": [
    "<font size=+3>&#9998;</font> No there will not be anything happening because there is nothing in the eat and repoduce fuctions."
   ]
  },
  {
   "cell_type": "markdown",
   "metadata": {},
   "source": [
    "---\n",
    "### &#128721; STOP\n",
    "**Pause to commit your changes to your Git repository!**\n",
    "\n",
    "Take a moment to save your notebook, commit the changes to your Git repository using the commit message \"Animals in an environment\", and push the changes to GitHub.\n",
    "\n",
    "---"
   ]
  },
  {
   "cell_type": "markdown",
   "metadata": {},
   "source": [
    "---\n",
    "## Part 5 Finalize the `Animal` class (25 pt)\n",
    "\n",
    "Here, we will implement the two missing stub functions of the `Animal` class: `eat()` and `reproduce()`\n",
    "```python\n",
    "    def eat(self, neighbor_spots):\n",
    "        pass # will be implemented later\n",
    "\n",
    "    def reproduce(self, neighbor_spots):\n",
    "        pass # will be implemented later\n",
    "```\n",
    "\n",
    "Replace the `eat()` stub function with this code:\n",
    "```python\n",
    "    def eat(self, env, neighbor_spots):\n",
    "        # select only the neighboring spots that contain animals we can actually eat\n",
    "        neighboring_spots_with_animals_we_can_eat = []\n",
    "        for spot in neighbor_spots:\n",
    "            if env.has_animal(spot[0],spot[1]):\n",
    "                # only look if it has an animal, then get the other animal\n",
    "                other_animal = env.get_animal(spot[0],spot[1])\n",
    "                if self.can_eat(other_animal):\n",
    "                    neighboring_spots_with_animals_we_can_eat.append( spot )\n",
    "\n",
    "        if len(neighboring_spots_with_animals_we_can_eat)==0: \n",
    "            # no animals there.. cannot eat\n",
    "            return\n",
    "\n",
    "        # an animal I can eat! eat it and gain its energy - Highlander rules\n",
    "\n",
    "        # choose a spot randomly\n",
    "        chosen_spot = random.choice(neighboring_spots_with_animals_we_can_eat)\n",
    "\n",
    "        # get the other animal and its energy\n",
    "        # TODO: << ... retrieve the \"other\" animal using `env.get_animal()` from the x-y coordinates given in `chosen_spot`, get its energy and store it in the variable `other_energy` ... >>\n",
    "\n",
    "        # eat the animal!\n",
    "        # TODO: << ... use the appropriate member function of the `Environment` `env` in order to remove the other animal in the spot given by `chosen_spot` ... >>\n",
    "\n",
    "        # increase our own energy\n",
    "        # TODO: << ... make sure to increase our own energy by the amount stored in `other_energy` ... >>\n",
    "```\n",
    "\n",
    "Replace the `reproduce()` stub function with this code:\n",
    "```python\n",
    "    def reproduce(self, env, neighbor_spots):\n",
    "        # can we reproduce? only possible if energy > 1\n",
    "        if self.energy <= 1:\n",
    "            return\n",
    "\n",
    "        # find an empty neighboring spot to reproduce to\n",
    "        # make a list of neighboring spots as (x,y) tuples\n",
    "        open_neighbor_spots = []\n",
    "        for spot in neighbor_spots:\n",
    "            if not env.has_animal(spot[0],spot[1]):\n",
    "                # if it doesn't have an animal in it already, it is available!\n",
    "                open_neighbor_spots.append( spot )\n",
    "        \n",
    "        if len(open_neighbor_spots)==0: \n",
    "            # no space left, we cannot reproduce\n",
    "            return\n",
    "\n",
    "        # spend one unit of energy in order to reproduce\n",
    "        # TODO: << ... Lower our own energy level by `1` ... >>\n",
    "\n",
    "        # choose one of the spots\n",
    "        the_neighboring_spot = random.choice(open_neighbor_spots)\n",
    "\n",
    "        # make a new animal by cloning ourself\n",
    "        # TODO: << ... use our own `clone()` method to create a copy (and split our energy in half). Store that clone in a variable called `the_new_animal` ... >>\n",
    "\n",
    "        # TODO: << ... Use the correct member function of the `Environment` class given in `env` to add the cloned animal (`the_new_animal`) to the environment at the x-y coordinates given by `the_neighboring_spot` ... >>\n",
    "\n",
    "```\n",
    "\n",
    "**IMPORTANT NOTE**: The code given above requires you to add some pieces at the points indicated by `TODO`."
   ]
  },
  {
   "cell_type": "markdown",
   "metadata": {},
   "source": [
    "**Paste the previous version of `Animal` from the top of the notebook into the cell below, add the two implementations of the stub functions `eat()` and `reproduce()` given above and write the missing code replacing the `TODO` comment lines.** (15 pt)"
   ]
  },
  {
   "cell_type": "code",
   "execution_count": 59,
   "metadata": {},
   "outputs": [],
   "source": [
    "## In this cell, paste the previous version of `Animal` from the top of the notebook into the cell below,\n",
    "## add the two implementations of the stub functions `eat()` and `reproduce()` given above and finish the code by \n",
    "## replacing the `TODO` comment lines with the missing parts of the implementation.\n",
    "\n",
    "\n",
    "### Modify the code below as explained.\n",
    "### Start with the class skeleton provided and implement the constructor and `get_energy()`.\n",
    "### Also add Docstrings to these two functions and to the class overall (no need for docstrings for the other stub functions).\n",
    "\n",
    "class Animal:\n",
    "    def __init__(self, starting_energy):\n",
    "        '''\n",
    "        Animal object with an energy level equal to starting_energy\n",
    "        '''\n",
    "        self.energy = starting_energy\n",
    "    def get_energy(self):\n",
    "        '''Returns the energy value'''\n",
    "        return self.energy\n",
    "\n",
    "    def get_rgb(self):\n",
    "        pass # to be implemented by derived classes\n",
    "\n",
    "    def get_kind_name(self):\n",
    "        pass # to be implemented by derived classes\n",
    "\n",
    "    def can_eat(self, other_animal):\n",
    "        pass # to be implemented by derived classes\n",
    "\n",
    "    def clone(self):\n",
    "        pass # to be implemented by derived classes\n",
    "\n",
    "    def eat(self, env, neighbor_spots):\n",
    "        # select only the neighboring spots that contain animals we can actually eat\n",
    "        neighboring_spots_with_animals_we_can_eat = []\n",
    "        for spot in neighbor_spots:\n",
    "            if env.has_animal(spot[0],spot[1]):\n",
    "                # only look if it has an animal, then get the other animal\n",
    "                other_animal = env.get_animal(spot[0],spot[1])\n",
    "                if self.can_eat(other_animal):\n",
    "                    neighboring_spots_with_animals_we_can_eat.append( spot )\n",
    "\n",
    "        if len(neighboring_spots_with_animals_we_can_eat)==0: \n",
    "            # no animals there.. cannot eat\n",
    "            return\n",
    "\n",
    "        # an animal I can eat! eat it and gain its energy - Highlander rules\n",
    "\n",
    "        # choose a spot randomly\n",
    "        chosen_spot = random.choice(neighboring_spots_with_animals_we_can_eat)\n",
    "\n",
    "        # get the other animal and its energy\n",
    "        # TODO: << ... retrieve the \"other\" animal using `env.get_animal()` from the x-y coordinates given in `chosen_spot`, get its energy and store it in the variable `other_energy` ... >>\n",
    "        other_aniaml = env.get_animal(spot[0],spot[1])\n",
    "        other_energy = other_animal.get_energy()\n",
    "        if self.get_energy() > other_energy:\n",
    "            env.remove_animal(spot[0,spot[1]])\n",
    "            self.energy += other_energy\n",
    "        # eat the animal!\n",
    "        # TODO: << ... use the appropriate member function of the `Environment` `env` in order to remove the other animal in the spot given by `chosen_spot` ... >>\n",
    "\n",
    "        # increase our own energy\n",
    "        # TODO: << ... make sure to increase our own energy by the amount stored in `other_energy` ... >>\n",
    "\n",
    "    def reproduce(self, env, neighbor_spots):\n",
    "        # can we reproduce? only possible if energy > 1\n",
    "        if self.energy <= 1:\n",
    "            return\n",
    "\n",
    "        # find an empty neighboring spot to reproduce to\n",
    "        # make a list of neighboring spots as (x,y) tuples\n",
    "        open_neighbor_spots = []\n",
    "        for spot in neighbor_spots:\n",
    "            if not env.has_animal(spot[0],spot[1]):\n",
    "                # if it doesn't have an animal in it already, it is available!\n",
    "                open_neighbor_spots.append( spot )\n",
    "\n",
    "        if len(open_neighbor_spots)==0: \n",
    "            # no space left, we cannot reproduce\n",
    "            return\n",
    "\n",
    "        # spend one unit of energy in order to reproduce\n",
    "        # TODO: << ... Lower our own energy level by `1` ... >>\n",
    "        self.energy -= 1\n",
    "        # choose one of the spots\n",
    "        the_neighboring_spot = random.choice(open_neighbor_spots)\n",
    "\n",
    "        # make a new animal by cloning ourself\n",
    "        # TODO: << ... use our own `clone()` method to create a copy (and split our energy in half). Store that clone in a variable called `the_new_animal` ... >>\n",
    "        the_other_animal = self.clone()\n",
    "        env.add_animal(the_neighboring_spot[0],the_neibhboring_spot[1],the_other_animal)\n",
    "        # TODO: << ... Use the correct member function of the `Environment` class given in `env` to add the cloned animal (`the_new_animal`) to the environment at the x-y coordinates given by `the_neighboring_spot` ... >>\n"
   ]
  },
  {
   "cell_type": "markdown",
   "metadata": {},
   "source": [
    "**You now NEED to re-define the derived classes, since their base class has changed. Copy&paste your previous versions of `Rock_Animal`, `Paper_Animal`, and `Scissors_Animal` in the cell below. No changes to the derived classes should be necessary.**"
   ]
  },
  {
   "cell_type": "code",
   "execution_count": 60,
   "metadata": {},
   "outputs": [],
   "source": [
    "### You now NEED to re-define the derived classes, since their base class has changed.\n",
    "### Copy&paste your previous versions of `Rock_Animal`, `Paper_Animal`, and `Scissors_Animal`\n",
    "### in the cell below. No changes to the derived classes should be necessary.\n",
    "class Rock_Animal(Animal):\n",
    "    \n",
    "    def get_rgb(self):\n",
    "        return (1.0,0.0,0.0)\n",
    "    \n",
    "    def get_kind_name(self):\n",
    "        return 'rock'\n",
    "    \n",
    "    def can_eat(self, other_animal):\n",
    "        if(other_animal.get_kind_name() == 'scissors'):\n",
    "            return True\n",
    "        else:\n",
    "            return False\n",
    "        \n",
    "    def clone(self):\n",
    "        self.energy = self.energy/2\n",
    "        return Rock_Animal(self.energy)\n",
    "\n",
    "class Paper_Animal(Animal):\n",
    "    \n",
    "    def get_rgb(self):\n",
    "        return (0.0,1.0,0.0)\n",
    "    \n",
    "    def get_kind_name(self):\n",
    "        return 'paper'\n",
    "    \n",
    "    def can_eat(self, other_animal):\n",
    "        if(other_animal.get_kind_name() == 'rock'):\n",
    "            return True\n",
    "        else:\n",
    "            return False\n",
    "        \n",
    "    def clone(self):\n",
    "        self.energy = self.energy/2\n",
    "        return Paper_Animal(self.energy)\n",
    "\n",
    "    \n",
    "class Scissors_Animal(Animal):\n",
    "    \n",
    "    def get_rgb(self):\n",
    "        return (0.0,0.0,1.0)\n",
    "    \n",
    "    def get_kind_name(self):\n",
    "        return 'scissors'\n",
    "    \n",
    "    def can_eat(self, other_animal):\n",
    "        if(other_animal.get_kind_name() == 'paper'):\n",
    "            return True\n",
    "        else:\n",
    "            return False\n",
    "        \n",
    "    def clone(self):\n",
    "        self.energy = self.energy/2\n",
    "        return Scissors_Animal(self.energy)\n",
    " "
   ]
  },
  {
   "cell_type": "markdown",
   "metadata": {},
   "source": [
    "**At this point, you should be able to run the full simulation of your environment. Run the cell below to see a simulation using 5 \"life cycle\" time steps. Make sure your code is working correctly and the simulation keeps updating.** (10pt)"
   ]
  },
  {
   "cell_type": "code",
   "execution_count": 61,
   "metadata": {},
   "outputs": [
    {
     "ename": "NameError",
     "evalue": "name 'the_neibhboring_spot' is not defined",
     "output_type": "error",
     "traceback": [
      "\u001b[1;31m---------------------------------------------------------------------------\u001b[0m",
      "\u001b[1;31mNameError\u001b[0m                                 Traceback (most recent call last)",
      "\u001b[1;32m~\\AppData\\Local\\Temp/ipykernel_38752/1855669073.py\u001b[0m in \u001b[0;36m<module>\u001b[1;34m\u001b[0m\n\u001b[0;32m     15\u001b[0m \u001b[1;33m\u001b[0m\u001b[0m\n\u001b[0;32m     16\u001b[0m     \u001b[1;31m## call the roaming method and then draw here\u001b[0m\u001b[1;33m\u001b[0m\u001b[1;33m\u001b[0m\u001b[1;33m\u001b[0m\u001b[0m\n\u001b[1;32m---> 17\u001b[1;33m     \u001b[0menv\u001b[0m\u001b[1;33m.\u001b[0m\u001b[0mlife_cycle\u001b[0m\u001b[1;33m(\u001b[0m\u001b[1;33m)\u001b[0m\u001b[1;33m\u001b[0m\u001b[1;33m\u001b[0m\u001b[0m\n\u001b[0m\u001b[0;32m     18\u001b[0m     \u001b[0menv\u001b[0m\u001b[1;33m.\u001b[0m\u001b[0mdraw_grid\u001b[0m\u001b[1;33m(\u001b[0m\u001b[0max\u001b[0m\u001b[1;33m)\u001b[0m\u001b[1;33m\u001b[0m\u001b[1;33m\u001b[0m\u001b[0m\n\u001b[0;32m     19\u001b[0m     \u001b[0menv\u001b[0m\u001b[1;33m.\u001b[0m\u001b[0mdraw_population\u001b[0m\u001b[1;33m(\u001b[0m\u001b[0mbx\u001b[0m\u001b[1;33m)\u001b[0m\u001b[1;33m\u001b[0m\u001b[1;33m\u001b[0m\u001b[0m\n",
      "\u001b[1;32m~\\AppData\\Local\\Temp/ipykernel_38752/2167609272.py\u001b[0m in \u001b[0;36mlife_cycle\u001b[1;34m(self)\u001b[0m\n\u001b[0;32m    112\u001b[0m         \u001b[0manimals\u001b[0m \u001b[1;33m=\u001b[0m \u001b[0mshuffled_animal_list\u001b[0m\u001b[1;33m(\u001b[0m\u001b[1;33m)\u001b[0m\u001b[1;33m\u001b[0m\u001b[1;33m\u001b[0m\u001b[0m\n\u001b[0;32m    113\u001b[0m         \u001b[1;32mfor\u001b[0m \u001b[0mthe_animal\u001b[0m\u001b[1;33m,\u001b[0m \u001b[0mneighbor_spots\u001b[0m \u001b[1;32min\u001b[0m \u001b[0manimals\u001b[0m\u001b[1;33m:\u001b[0m\u001b[1;33m\u001b[0m\u001b[1;33m\u001b[0m\u001b[0m\n\u001b[1;32m--> 114\u001b[1;33m             \u001b[0mthe_animal\u001b[0m\u001b[1;33m.\u001b[0m\u001b[0mreproduce\u001b[0m\u001b[1;33m(\u001b[0m\u001b[0mself\u001b[0m\u001b[1;33m,\u001b[0m \u001b[0mneighbor_spots\u001b[0m\u001b[1;33m)\u001b[0m\u001b[1;33m\u001b[0m\u001b[1;33m\u001b[0m\u001b[0m\n\u001b[0m\u001b[0;32m    115\u001b[0m \u001b[1;33m\u001b[0m\u001b[0m\n\u001b[0;32m    116\u001b[0m         \u001b[1;31m# update the statistics for plotting\u001b[0m\u001b[1;33m\u001b[0m\u001b[1;33m\u001b[0m\u001b[1;33m\u001b[0m\u001b[0m\n",
      "\u001b[1;32m~\\AppData\\Local\\Temp/ipykernel_38752/2165772452.py\u001b[0m in \u001b[0;36mreproduce\u001b[1;34m(self, env, neighbor_spots)\u001b[0m\n\u001b[0;32m     88\u001b[0m         \u001b[1;31m# TODO: << ... use our own `clone()` method to create a copy (and split our energy in half). Store that clone in a variable called `the_new_animal` ... >>\u001b[0m\u001b[1;33m\u001b[0m\u001b[1;33m\u001b[0m\u001b[1;33m\u001b[0m\u001b[0m\n\u001b[0;32m     89\u001b[0m         \u001b[0mthe_other_animal\u001b[0m \u001b[1;33m=\u001b[0m \u001b[0mself\u001b[0m\u001b[1;33m.\u001b[0m\u001b[0mclone\u001b[0m\u001b[1;33m(\u001b[0m\u001b[1;33m)\u001b[0m\u001b[1;33m\u001b[0m\u001b[1;33m\u001b[0m\u001b[0m\n\u001b[1;32m---> 90\u001b[1;33m         \u001b[0menv\u001b[0m\u001b[1;33m.\u001b[0m\u001b[0madd_animal\u001b[0m\u001b[1;33m(\u001b[0m\u001b[0mthe_neighboring_spot\u001b[0m\u001b[1;33m[\u001b[0m\u001b[1;36m0\u001b[0m\u001b[1;33m]\u001b[0m\u001b[1;33m,\u001b[0m\u001b[0mthe_neibhboring_spot\u001b[0m\u001b[1;33m[\u001b[0m\u001b[1;36m1\u001b[0m\u001b[1;33m]\u001b[0m\u001b[1;33m,\u001b[0m\u001b[0mthe_other_animal\u001b[0m\u001b[1;33m)\u001b[0m\u001b[1;33m\u001b[0m\u001b[1;33m\u001b[0m\u001b[0m\n\u001b[0m\u001b[0;32m     91\u001b[0m         \u001b[1;31m# TODO: << ... Use the correct member function of the `Environment` class given in `env` to add the cloned animal (`the_new_animal`) to the environment at the x-y coordinates given by `the_neighboring_spot` ... >>\u001b[0m\u001b[1;33m\u001b[0m\u001b[1;33m\u001b[0m\u001b[1;33m\u001b[0m\u001b[0m\n",
      "\u001b[1;31mNameError\u001b[0m: name 'the_neibhboring_spot' is not defined"
     ]
    },
    {
     "data": {
      "image/png": "[encoded data removed]",
      "text/plain": [
       "<Figure size 1152x576 with 2 Axes>"
      ]
     },
     "metadata": {
      "needs_background": "light"
     },
     "output_type": "display_data"
    }
   ],
   "source": [
    "env = Environment(\n",
    "        animal_kinds = [Rock_Animal, Paper_Animal, Scissors_Animal], \n",
    "        num_animals_initial=200, \n",
    "        size_x=100, size_y=100, \n",
    "        padding=15, \n",
    "        inital_animal_energy=10000)\n",
    "\n",
    "## iterate over 5 time steps\n",
    "for d in range(5):\n",
    "    clear_output(wait=True)\n",
    "\n",
    "    fig = plt.figure(figsize=(16, 8))\n",
    "    ax = fig.add_subplot(121)\n",
    "    bx = fig.add_subplot(122)\n",
    "\n",
    "    ## call the roaming method and then draw here  \n",
    "    env.life_cycle()\n",
    "    env.draw_grid(ax)\n",
    "    env.draw_population(bx)\n",
    "\n",
    "    plt.show()\n",
    "\n",
    "    time.sleep(0.001)       \n"
   ]
  },
  {
   "cell_type": "markdown",
   "metadata": {},
   "source": [
    "Your output should look somewhat like this:\n",
    "\n",
    "<img src=\"https://i.ibb.co/4mKY9K3/Expected-Output-5.png\" alt=\"Example Plot\" border=\"0\" width=600px>\n",
    "\n",
    "**Congratulations, you now have a fully working simulation!**"
   ]
  },
  {
   "cell_type": "markdown",
   "metadata": {},
   "source": [
    "---\n",
    "### &#128721; STOP\n",
    "**Pause to commit your changes to your Git repository!**\n",
    "\n",
    "Take a moment to save your notebook, commit the changes to your Git repository using the commit message \"Full Simulation\", and push the changes to GitHub.\n",
    "\n",
    "---"
   ]
  },
  {
   "cell_type": "markdown",
   "metadata": {},
   "source": [
    "---\n",
    "## Part 6. Running experiments. (10 pt)\n",
    "\n",
    "- You will now run a couple of experiments using the existing code.\n",
    "- **First, copy the previous code cell and make it run for more than 5 steps (start with around 100-200 steps, increase the number if necessary).** (5pt)"
   ]
  },
  {
   "cell_type": "code",
   "execution_count": null,
   "metadata": {},
   "outputs": [],
   "source": [
    "### your code here\n",
    "\n",
    "env = Environment(\n",
    "        animal_kinds = [Rock_Animal, Paper_Animal, Scissors_Animal], \n",
    "        num_animals_initial=200, \n",
    "        size_x=100, size_y=100, \n",
    "        padding=15, \n",
    "        inital_animal_energy=10000)\n",
    "\n",
    "# <.... add the remaining code here ....>\n",
    "\n"
   ]
  },
  {
   "cell_type": "markdown",
   "metadata": {},
   "source": [
    "- **Run the model several times as-is. Then in a few more runs try to experiment with the settings (try `num_animals_initial` and `inital_animal_energy` first)**\n",
    "- **Summarize the observation in your words.** What do you observe? How do the three species interact with each other? What effect (if any) do the settings mentioned above have? (5 pt)"
   ]
  },
  {
   "cell_type": "markdown",
   "metadata": {},
   "source": [
    "<font size=+3>&#9998;</font> Do This - Erase the contents of this cell an put your answer here."
   ]
  },
  {
   "cell_type": "markdown",
   "metadata": {},
   "source": [
    "---\n",
    "### &#128721; STOP\n",
    "**Pause to commit your changes to your Git repository!**\n",
    "\n",
    "Take a moment to save your notebook, commit the changes to your Git repository using the commit message \"Running experiments\", and push the changes to GitHub.\n",
    "\n",
    "---"
   ]
  },
  {
   "cell_type": "markdown",
   "metadata": {},
   "source": [
    "---\n",
    "## Part 7. Possible improvement. (20 pt) - EXTRA CREDIT [The total assignment score is capped at 105%]"
   ]
  },
  {
   "cell_type": "markdown",
   "metadata": {},
   "source": [
    "<img src=\"https://i.ibb.co/F6Nkzqv/RPSLS.webp\" width=300px align='left'  style=\"margin-right: 20px\" >\n",
    "\n",
    "- **Try to improve your code by making 5 instead of 3 animal species.** Make them follow the rules of \"Rock-Paper-Scissors-Lizard-Spock\" (pictured the the left). The arrows show which sign beats which other sign. Your animal species should be able to set up accordingly. Try to implement new versions of the respective classes derived from animal and run a simulation with five instead of three species.\n",
    "\n",
    "- (Note: This game variant is also described on the [Rock Paper Scissors Wikipedia page](https://en.wikipedia.org/wiki/Rock_paper_scissors#Additional_weapons) under the \"Additional weapons\" heading.)\n"
   ]
  },
  {
   "cell_type": "markdown",
   "metadata": {},
   "source": [
    "**Implement the 5 animal classes `Rock_Animal, Paper_Animal, Scissors_Animal, Lizard_Animal, Spock_Animal`, then initialize the environment below like this:**\n",
    "\n",
    "```python\n",
    "    env = Environment(\n",
    "        animal_kinds = [Rock_Animal, Paper_Animal, Scissors_Animal, Lizard_Animal, Spock_Animal], \n",
    "        num_animals_initial=200, \n",
    "        size_x=100, size_y=100, \n",
    "        padding=15, \n",
    "        inital_animal_energy=10000)\n",
    "\n",
    "```"
   ]
  },
  {
   "cell_type": "code",
   "execution_count": 48,
   "metadata": {},
   "outputs": [],
   "source": [
    "## Add your code here (10 pt)\n",
    "\n",
    "class Rock_Animal(Animal):\n",
    "    \n",
    "    def get_rgb(self):\n",
    "        return (1.0,0.0,0.0)\n",
    "    \n",
    "    def get_kind_name(self):\n",
    "        return 'rock'\n",
    "    \n",
    "    def can_eat(self, other_animal):\n",
    "        if(other_animal.get_kind_name() == 'scissors' or other_animal.get_kind_name == 'lizard'):\n",
    "            return True\n",
    "        else:\n",
    "            return False\n",
    "        \n",
    "    def clone(self):\n",
    "        self.energy = self.energy/2\n",
    "        return Rock_Animal(self.energy)\n",
    "\n",
    "class Paper_Animal(Animal):\n",
    "    \n",
    "    def get_rgb(self):\n",
    "        return (0.0,1.0,0.0)\n",
    "    \n",
    "    def get_kind_name(self):\n",
    "        return 'paper'\n",
    "    \n",
    "    def can_eat(self, other_animal):\n",
    "        if(other_animal.get_kind_name() == 'rock' or other_animal.get_kind_name == 'spock'):\n",
    "            return True\n",
    "        else:\n",
    "            return False\n",
    "        \n",
    "    def clone(self):\n",
    "        self.energy = self.energy/2\n",
    "        return Paper_Animal(self.energy)\n",
    "\n",
    "    \n",
    "class Scissors_Animal(Animal):\n",
    "    \n",
    "    def get_rgb(self):\n",
    "        return (0.0,0.0,1.0)\n",
    "    \n",
    "    def get_kind_name(self):\n",
    "        return 'scissors'\n",
    "    \n",
    "    def can_eat(self, other_animal):\n",
    "        if(other_animal.get_kind_name() == 'paper' or other_animal.get_kind_name == 'lizard'):\n",
    "            return True\n",
    "        else:\n",
    "            return False\n",
    "        \n",
    "    def clone(self):\n",
    "        self.energy = self.energy/2\n",
    "        return Scissors_Animal(self.energy)\n",
    "    \n",
    "class Lizard_Animal(Animal):\n",
    "    \n",
    "    def get_rgb(self):\n",
    "        return (1.0,0.0,1.0)\n",
    "    \n",
    "    def get_kind_name(self):\n",
    "        return 'lizard'\n",
    "    \n",
    "    def can_eat(self, other_animal):\n",
    "        if(other_animal.get_kind_name() == 'paper' or other_animal.get_kind_name == 'spock'):\n",
    "            return True\n",
    "        else:\n",
    "            return False\n",
    "        \n",
    "    def clone(self):\n",
    "        self.energy = self.energy/2\n",
    "        return Scissors_Animal(self.energy)\n",
    "    \n",
    "class Spcok_Animal(Animal):\n",
    "    \n",
    "    def get_rgb(self):\n",
    "        return (0.0,1.0,1.0)\n",
    "    \n",
    "    def get_kind_name(self):\n",
    "        return 'spock'\n",
    "    \n",
    "    def can_eat(self, other_animal):\n",
    "        if(other_animal.get_kind_name() == 'rock' or other_animal.get_kind_name == 'scissors'):\n",
    "            return True\n",
    "        else:\n",
    "            return False\n",
    "        \n",
    "    def clone(self):\n",
    "        self.energy = self.energy/2\n",
    "        return Scissors_Animal(self.energy)"
   ]
  },
  {
   "cell_type": "markdown",
   "metadata": {},
   "source": [
    "- Run the model for around 100-200 steps and see what happens. Re-run it a few times. How do the results differ from 3-species version? (5 pt)"
   ]
  },
  {
   "cell_type": "code",
   "execution_count": null,
   "metadata": {},
   "outputs": [],
   "source": [
    "# Run the model for around 100-200 steps and see what happens. Re-run it a few times. Put your code here.\n",
    "\n"
   ]
  },
  {
   "cell_type": "markdown",
   "metadata": {},
   "source": [
    "<font size=+3>&#9998;</font> Do This - Erase the contents of this cell an put your answer here."
   ]
  },
  {
   "cell_type": "markdown",
   "metadata": {},
   "source": [
    "- Run one model for even more steps (around 500 to 1000 more steps depending on how long you are willing to watch it for). Describe if there are any additional observations. (5 pt)"
   ]
  },
  {
   "cell_type": "code",
   "execution_count": null,
   "metadata": {},
   "outputs": [],
   "source": [
    "# Run one model for even more steps (around 500 to 1000 depending on how long you are willing to watch it for). Put your code here.\n",
    "\n"
   ]
  },
  {
   "cell_type": "markdown",
   "metadata": {},
   "source": [
    "<font size=+3>&#9998;</font> Do This - Erase the contents of this cell an put your answer here."
   ]
  },
  {
   "cell_type": "markdown",
   "metadata": {},
   "source": [
    "---\n",
    "### &#128721; STOP\n",
    "**Pause to commit your changes to your Git repository!**\n",
    "\n",
    "Take a moment to save your notebook, commit the changes to your Git repository using the commit message \"Assignment complete\", and push the changes to GitHub.\n",
    "\n",
    "---"
   ]
  },
  {
   "cell_type": "markdown",
   "metadata": {},
   "source": [
    "---\n",
    "## Assignment wrap-up\n",
    "\n",
    "Please fill out the form that appears when you run the code below.  **You must completely fill this out in order to receive credit for the assignment!**"
   ]
  },
  {
   "cell_type": "code",
   "execution_count": null,
   "metadata": {},
   "outputs": [],
   "source": [
    "from IPython.display import HTML\n",
    "HTML(\n",
    "\"\"\"\n",
    "<iframe \n",
    "\tsrc=\"https://forms.office.com/Pages/ResponsePage.aspx?id=MHEXIi9k2UGSEXQjetVofddd5T-Pwn1DlT6_yoCyuCFUOEhVVUZBVklNQ1NBUFhKNFNHWkpSMFZIQS4u\" \n",
    "\twidth=\"800px\" \n",
    "\theight=\"600px\" \n",
    "\tframeborder=\"0\" \n",
    "\tmarginheight=\"0\" \n",
    "\tmarginwidth=\"0\">\n",
    "\tLoading...\n",
    "</iframe>\n",
    "\"\"\"\n",
    ")"
   ]
  },
  {
   "cell_type": "markdown",
   "metadata": {},
   "source": [
    "### Congratulations, you're done!\n",
    "\n",
    "Submit this assignment by uploading it to the course Desire2Learn web page.  Go to the \"Homework Assignments\" folder, find the dropbox link for Homework #3, and upload it there."
   ]
  },
  {
   "cell_type": "markdown",
   "metadata": {},
   "source": [
    "&#169; Copyright 2021,  Department of Computational Mathematics, Science and Engineering at Michigan State University"
   ]
  }
 ],
 "metadata": {
  "interpreter": {
   "hash": "aee8b7b246df8f9039afb4144a1f6fd8d2ca17a180786b69acc140d282b71a49"
  },
  "kernelspec": {
   "display_name": "Python 3 (ipykernel)",
   "language": "python",
   "name": "python3"
  },
  "language_info": {
   "codemirror_mode": {
    "name": "ipython",
    "version": 3
   },
   "file_extension": ".py",
   "mimetype": "text/x-python",
   "name": "python",
   "nbconvert_exporter": "python",
   "pygments_lexer": "ipython3",
   "version": "3.8.11"
  }
 },
 "nbformat": 4,
 "nbformat_minor": 4
}
