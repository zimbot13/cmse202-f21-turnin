{
 "cells": [
  {
   "cell_type": "markdown",
   "metadata": {},
   "source": [
    "# Homework Assignment #2 (Individual)\n",
    "## Pandas Review and Writing Python Classes"
   ]
  },
  {
   "cell_type": "markdown",
   "metadata": {},
   "source": [
    "### <p style=\"text-align: right;\"> &#9989; Ted Zimbo</p>\n",
    "### <p style=\"text-align: right;\"> &#9989; zimbot13</p>"
   ]
  },
  {
   "cell_type": "markdown",
   "metadata": {},
   "source": [
    "<img src=\"https://files.realpython.com/media/Object-Oriented-Programming-OOP-in-Python-3_Watermarked.0d29780806d5.jpg\" width=400px align=\"right\" style=\"margin-left: 20px\" alt=\"Image credit: www.noao.edu\">\n",
    "\n",
    "### Goals for this homework assignment\n",
    "By the end of this assignment, you should be able to:\n",
    "* Use Git to create a repository, track changes to the files within the repository, and push those changes to a remote repository.\n",
    "* Use your Pandas skills to load and explore some data and visualize it with matplotlib\n",
    "* Read and write Python classes, including classes that leverage object inheritance\n",
    "\n",
    "Work through the following assignment, making sure to follow all of the directions and answer all of the questions.\n",
    "\n",
    "There are **42 points** possible on this assignment. Point values for each part are included in the section headers and question prompts.\n",
    "\n",
    "**This assignment is due roughly two weeks from now at 11:59 pm on Friday, October 8.** It should be uploaded into the \"Homework Assignments\" submission folder for Homework #2.  Submission instructions can be found at the end of the notebook."
   ]
  },
  {
   "cell_type": "markdown",
   "metadata": {},
   "source": [
    "---\n",
    "## Part 1: Add to your Git repository to track your progress on your assignment (3 points)\n",
    "\n",
    "For this assignment, you're going to add it to the `cmse202-sf1-turnin` repository you created in class so that you can track your progress on the assignment and preserve the final version that you turn in. In order to do this you need to\n",
    "\n",
    "**&#9989; Do the following**:\n",
    "\n",
    "1. Navigate to your `cmse202-f21-turnin` repository and create a new directory called `hw-02`.\n",
    "2. Move this notebook into that **new directory** in your repository, then **add it and commit it to your repository**.\n",
    "1. Finally, to test that everything is working, \"git push\" the file so that it ends up in your GitHub repository.\n",
    "\n",
    "**Important**: Double check you've added your Professor and your TA as collaborators to your \"turnin\" respository (you should have done this in the previous homework assignment).\n",
    "\n",
    "**Also important**: Make sure that the version of this notebook that you are working on is the same one that you just added to your repository! If you are working on a different copy of the noteobok, **none of your changes will be tracked**!\n",
    "\n",
    "If everything went as intended, the file should now show up on your GitHub account in the \"`cmse202-f21-turnin`\" repository inside the `hw-02` directory that you just created.  Periodically, **you'll be asked to commit your changes to the repository and push them to the remote GitHub location**. Of course, you can always commit your changes more often than that, if you wish.  It can be good to get into a habit of committing your changes any time you make a significant modification, or when you stop working on the project for a bit.\n",
    "\n",
    "&#9989; **Do this**: Before you move on, put the command that your instructor should run to clone your repository in the markdown cell below."
   ]
  },
  {
   "cell_type": "markdown",
   "metadata": {},
   "source": [
    "``` bash\n",
    "# Put the command for cloning your repository here!\n",
    "\n",
    "```"
   ]
  },
  {
   "cell_type": "markdown",
   "metadata": {},
   "source": [
    "---\n",
    "## Part 2: Load, manipulate, and visualize data with Pandas (21 points)\n",
    "\n",
    "For this part of the assignment, you're going to brush off your Pandas skills and your data manipulation and visualization skills. Throughout the course we'll continue to work with data, so this should be a good opportunity to remind yourself of some tools and techniques you picked up in CMSE 201 or perhaps learn something new."
   ]
  },
  {
   "cell_type": "markdown",
   "metadata": {},
   "source": [
    "### Analyzing UFO sighting data\n",
    "\n",
    "In particular, you're going to be working with a dataset that contains a set of recorded UFO sightings in the United States. The dataset originally comes from [here](http://www.nuforc.org/).\n",
    "\n",
    "In case you're not aware, \"UFO\" stands for \"Unidentified Flying Object\", which some people argue are observations of extraterrestrial spacecraft, but most often are later identified as conventional objects or phenonmena.\n",
    "\n",
    "You'll be working with a reduced version of the dataset, which you can download using `curl` from here:\n",
    "\n",
    "`https://raw.githubusercontent.com/msu-cmse-courses/cmse202-F21-data/main/data/ufos.csv`"
   ]
  },
  {
   "cell_type": "markdown",
   "metadata": {},
   "source": [
    "&#9989; **Question 2.1 (2 points)**: To get started, **read in the `ufos.csv` dataset using Pandas** and then use Pandas to display the first 15 rows of the data."
   ]
  },
  {
   "cell_type": "code",
   "execution_count": 2,
   "metadata": {},
   "outputs": [
    {
     "data": {
      "text/html": [
       "<div>\n",
       "<style scoped>\n",
       "    .dataframe tbody tr th:only-of-type {\n",
       "        vertical-align: middle;\n",
       "    }\n",
       "\n",
       "    .dataframe tbody tr th {\n",
       "        vertical-align: top;\n",
       "    }\n",
       "\n",
       "    .dataframe thead th {\n",
       "        text-align: right;\n",
       "    }\n",
       "</style>\n",
       "<table border=\"1\" class=\"dataframe\">\n",
       "  <thead>\n",
       "    <tr style=\"text-align: right;\">\n",
       "      <th></th>\n",
       "      <th>datetime</th>\n",
       "      <th>city</th>\n",
       "      <th>state</th>\n",
       "      <th>country</th>\n",
       "      <th>shape</th>\n",
       "      <th>duration (seconds)</th>\n",
       "      <th>duration (hours/min)</th>\n",
       "      <th>comments</th>\n",
       "      <th>date posted</th>\n",
       "      <th>latitude</th>\n",
       "      <th>longitude</th>\n",
       "    </tr>\n",
       "  </thead>\n",
       "  <tbody>\n",
       "    <tr>\n",
       "      <th>0</th>\n",
       "      <td>10/10/1949 20:30</td>\n",
       "      <td>san marcos</td>\n",
       "      <td>tx</td>\n",
       "      <td>us</td>\n",
       "      <td>cylinder</td>\n",
       "      <td>2700.0</td>\n",
       "      <td>45 minutes</td>\n",
       "      <td>This event took place in early fall around 194...</td>\n",
       "      <td>4/27/2004</td>\n",
       "      <td>29.883056</td>\n",
       "      <td>-97.941111</td>\n",
       "    </tr>\n",
       "    <tr>\n",
       "      <th>1</th>\n",
       "      <td>10/10/1956 21:00</td>\n",
       "      <td>edna</td>\n",
       "      <td>tx</td>\n",
       "      <td>us</td>\n",
       "      <td>circle</td>\n",
       "      <td>20.0</td>\n",
       "      <td>1/2 hour</td>\n",
       "      <td>My older brother and twin sister were leaving ...</td>\n",
       "      <td>1/17/2004</td>\n",
       "      <td>28.978333</td>\n",
       "      <td>-96.645833</td>\n",
       "    </tr>\n",
       "    <tr>\n",
       "      <th>2</th>\n",
       "      <td>10/10/1960 20:00</td>\n",
       "      <td>kaneohe</td>\n",
       "      <td>hi</td>\n",
       "      <td>us</td>\n",
       "      <td>light</td>\n",
       "      <td>900.0</td>\n",
       "      <td>15 minutes</td>\n",
       "      <td>AS a Marine 1st Lt. flying an FJ4B fighter/att...</td>\n",
       "      <td>1/22/2004</td>\n",
       "      <td>21.418056</td>\n",
       "      <td>-157.803611</td>\n",
       "    </tr>\n",
       "    <tr>\n",
       "      <th>3</th>\n",
       "      <td>10/10/1961 19:00</td>\n",
       "      <td>bristol</td>\n",
       "      <td>tn</td>\n",
       "      <td>us</td>\n",
       "      <td>sphere</td>\n",
       "      <td>300.0</td>\n",
       "      <td>5 minutes</td>\n",
       "      <td>My father is now 89 my brother 52 the girl wit...</td>\n",
       "      <td>4/27/2007</td>\n",
       "      <td>36.595000</td>\n",
       "      <td>-82.188889</td>\n",
       "    </tr>\n",
       "    <tr>\n",
       "      <th>4</th>\n",
       "      <td>10/10/1965 23:45</td>\n",
       "      <td>norwalk</td>\n",
       "      <td>ct</td>\n",
       "      <td>us</td>\n",
       "      <td>disk</td>\n",
       "      <td>1200.0</td>\n",
       "      <td>20 minutes</td>\n",
       "      <td>A bright orange color changing to reddish colo...</td>\n",
       "      <td>10/2/1999</td>\n",
       "      <td>41.117500</td>\n",
       "      <td>-73.408333</td>\n",
       "    </tr>\n",
       "    <tr>\n",
       "      <th>5</th>\n",
       "      <td>10/10/1966 20:00</td>\n",
       "      <td>pell city</td>\n",
       "      <td>al</td>\n",
       "      <td>us</td>\n",
       "      <td>disk</td>\n",
       "      <td>180.0</td>\n",
       "      <td>3  minutes</td>\n",
       "      <td>Strobe Lighted disk shape object observed clos...</td>\n",
       "      <td>3/19/2009</td>\n",
       "      <td>33.586111</td>\n",
       "      <td>-86.286111</td>\n",
       "    </tr>\n",
       "    <tr>\n",
       "      <th>6</th>\n",
       "      <td>10/10/1966 21:00</td>\n",
       "      <td>live oak</td>\n",
       "      <td>fl</td>\n",
       "      <td>us</td>\n",
       "      <td>disk</td>\n",
       "      <td>120.0</td>\n",
       "      <td>several minutes</td>\n",
       "      <td>Saucer zaps energy from powerline as my pregna...</td>\n",
       "      <td>5/11/2005</td>\n",
       "      <td>30.294722</td>\n",
       "      <td>-82.984167</td>\n",
       "    </tr>\n",
       "    <tr>\n",
       "      <th>7</th>\n",
       "      <td>10/10/1968 13:00</td>\n",
       "      <td>hawthorne</td>\n",
       "      <td>ca</td>\n",
       "      <td>us</td>\n",
       "      <td>circle</td>\n",
       "      <td>300.0</td>\n",
       "      <td>5 min.</td>\n",
       "      <td>ROUND &amp;#44 ORANGE &amp;#44 WITH WHAT I WOULD SAY W...</td>\n",
       "      <td>10/31/2003</td>\n",
       "      <td>33.916389</td>\n",
       "      <td>-118.351667</td>\n",
       "    </tr>\n",
       "    <tr>\n",
       "      <th>8</th>\n",
       "      <td>10/10/1968 19:00</td>\n",
       "      <td>brevard</td>\n",
       "      <td>nc</td>\n",
       "      <td>us</td>\n",
       "      <td>fireball</td>\n",
       "      <td>180.0</td>\n",
       "      <td>3 minutes</td>\n",
       "      <td>silent red /orange mass of energy floated by t...</td>\n",
       "      <td>6/12/2008</td>\n",
       "      <td>35.233333</td>\n",
       "      <td>-82.734444</td>\n",
       "    </tr>\n",
       "    <tr>\n",
       "      <th>9</th>\n",
       "      <td>10/10/1970 16:00</td>\n",
       "      <td>bellmore</td>\n",
       "      <td>ny</td>\n",
       "      <td>us</td>\n",
       "      <td>disk</td>\n",
       "      <td>1800.0</td>\n",
       "      <td>30 min.</td>\n",
       "      <td>silver disc seen by family and neighbors</td>\n",
       "      <td>5/11/2000</td>\n",
       "      <td>40.668611</td>\n",
       "      <td>-73.527500</td>\n",
       "    </tr>\n",
       "    <tr>\n",
       "      <th>10</th>\n",
       "      <td>10/10/1970 19:00</td>\n",
       "      <td>manchester</td>\n",
       "      <td>ky</td>\n",
       "      <td>us</td>\n",
       "      <td>unknown</td>\n",
       "      <td>180.0</td>\n",
       "      <td>3 minutes</td>\n",
       "      <td>Slow moving&amp;#44 silent craft accelerated at an...</td>\n",
       "      <td>2/14/2008</td>\n",
       "      <td>37.153611</td>\n",
       "      <td>-83.761944</td>\n",
       "    </tr>\n",
       "    <tr>\n",
       "      <th>11</th>\n",
       "      <td>10/10/1971 21:00</td>\n",
       "      <td>lexington</td>\n",
       "      <td>nc</td>\n",
       "      <td>us</td>\n",
       "      <td>oval</td>\n",
       "      <td>30.0</td>\n",
       "      <td>30 seconds</td>\n",
       "      <td>green oval shaped light over my local church&amp;#...</td>\n",
       "      <td>2/14/2010</td>\n",
       "      <td>35.823889</td>\n",
       "      <td>-80.253611</td>\n",
       "    </tr>\n",
       "    <tr>\n",
       "      <th>12</th>\n",
       "      <td>10/10/1972 19:00</td>\n",
       "      <td>harlan county</td>\n",
       "      <td>ky</td>\n",
       "      <td>us</td>\n",
       "      <td>circle</td>\n",
       "      <td>1200.0</td>\n",
       "      <td>20minutes</td>\n",
       "      <td>On october 10&amp;#44 1972 myself&amp;#44my 5yrs.daugh...</td>\n",
       "      <td>9/15/2005</td>\n",
       "      <td>36.843056</td>\n",
       "      <td>-83.321944</td>\n",
       "    </tr>\n",
       "    <tr>\n",
       "      <th>13</th>\n",
       "      <td>10/10/1972 22:30</td>\n",
       "      <td>west bloomfield</td>\n",
       "      <td>mi</td>\n",
       "      <td>us</td>\n",
       "      <td>disk</td>\n",
       "      <td>120.0</td>\n",
       "      <td>2 minutes</td>\n",
       "      <td>The UFO was so close&amp;#44 my battery in the car...</td>\n",
       "      <td>8/14/2007</td>\n",
       "      <td>42.537778</td>\n",
       "      <td>-83.233056</td>\n",
       "    </tr>\n",
       "    <tr>\n",
       "      <th>14</th>\n",
       "      <td>10/10/1973 19:00</td>\n",
       "      <td>niantic</td>\n",
       "      <td>ct</td>\n",
       "      <td>us</td>\n",
       "      <td>disk</td>\n",
       "      <td>1800.0</td>\n",
       "      <td>20-30 min</td>\n",
       "      <td>Oh&amp;#44 what a night &amp;#33  Two (2) saucer-shape...</td>\n",
       "      <td>9/24/2003</td>\n",
       "      <td>41.325278</td>\n",
       "      <td>-72.193611</td>\n",
       "    </tr>\n",
       "  </tbody>\n",
       "</table>\n",
       "</div>"
      ],
      "text/plain": [
       "            datetime             city state country     shape  \\\n",
       "0   10/10/1949 20:30       san marcos    tx      us  cylinder   \n",
       "1   10/10/1956 21:00             edna    tx      us    circle   \n",
       "2   10/10/1960 20:00          kaneohe    hi      us     light   \n",
       "3   10/10/1961 19:00          bristol    tn      us    sphere   \n",
       "4   10/10/1965 23:45          norwalk    ct      us      disk   \n",
       "5   10/10/1966 20:00        pell city    al      us      disk   \n",
       "6   10/10/1966 21:00         live oak    fl      us      disk   \n",
       "7   10/10/1968 13:00        hawthorne    ca      us    circle   \n",
       "8   10/10/1968 19:00          brevard    nc      us  fireball   \n",
       "9   10/10/1970 16:00         bellmore    ny      us      disk   \n",
       "10  10/10/1970 19:00       manchester    ky      us   unknown   \n",
       "11  10/10/1971 21:00        lexington    nc      us      oval   \n",
       "12  10/10/1972 19:00    harlan county    ky      us    circle   \n",
       "13  10/10/1972 22:30  west bloomfield    mi      us      disk   \n",
       "14  10/10/1973 19:00          niantic    ct      us      disk   \n",
       "\n",
       "    duration (seconds) duration (hours/min)  \\\n",
       "0               2700.0           45 minutes   \n",
       "1                 20.0             1/2 hour   \n",
       "2                900.0           15 minutes   \n",
       "3                300.0            5 minutes   \n",
       "4               1200.0           20 minutes   \n",
       "5                180.0           3  minutes   \n",
       "6                120.0      several minutes   \n",
       "7                300.0               5 min.   \n",
       "8                180.0            3 minutes   \n",
       "9               1800.0              30 min.   \n",
       "10               180.0            3 minutes   \n",
       "11                30.0           30 seconds   \n",
       "12              1200.0            20minutes   \n",
       "13               120.0            2 minutes   \n",
       "14              1800.0            20-30 min   \n",
       "\n",
       "                                             comments date posted   latitude  \\\n",
       "0   This event took place in early fall around 194...   4/27/2004  29.883056   \n",
       "1   My older brother and twin sister were leaving ...   1/17/2004  28.978333   \n",
       "2   AS a Marine 1st Lt. flying an FJ4B fighter/att...   1/22/2004  21.418056   \n",
       "3   My father is now 89 my brother 52 the girl wit...   4/27/2007  36.595000   \n",
       "4   A bright orange color changing to reddish colo...   10/2/1999  41.117500   \n",
       "5   Strobe Lighted disk shape object observed clos...   3/19/2009  33.586111   \n",
       "6   Saucer zaps energy from powerline as my pregna...   5/11/2005  30.294722   \n",
       "7   ROUND &#44 ORANGE &#44 WITH WHAT I WOULD SAY W...  10/31/2003  33.916389   \n",
       "8   silent red /orange mass of energy floated by t...   6/12/2008  35.233333   \n",
       "9            silver disc seen by family and neighbors   5/11/2000  40.668611   \n",
       "10  Slow moving&#44 silent craft accelerated at an...   2/14/2008  37.153611   \n",
       "11  green oval shaped light over my local church&#...   2/14/2010  35.823889   \n",
       "12  On october 10&#44 1972 myself&#44my 5yrs.daugh...   9/15/2005  36.843056   \n",
       "13  The UFO was so close&#44 my battery in the car...   8/14/2007  42.537778   \n",
       "14  Oh&#44 what a night &#33  Two (2) saucer-shape...   9/24/2003  41.325278   \n",
       "\n",
       "     longitude  \n",
       "0   -97.941111  \n",
       "1   -96.645833  \n",
       "2  -157.803611  \n",
       "3   -82.188889  \n",
       "4   -73.408333  \n",
       "5   -86.286111  \n",
       "6   -82.984167  \n",
       "7  -118.351667  \n",
       "8   -82.734444  \n",
       "9   -73.527500  \n",
       "10  -83.761944  \n",
       "11  -80.253611  \n",
       "12  -83.321944  \n",
       "13  -83.233056  \n",
       "14  -72.193611  "
      ]
     },
     "execution_count": 2,
     "metadata": {},
     "output_type": "execute_result"
    }
   ],
   "source": [
    "### Put your code here\n",
    "import pandas as pd\n",
    "ufo = pd.read_csv('ufos.csv')\n",
    "ufo.head(15)"
   ]
  },
  {
   "cell_type": "markdown",
   "metadata": {},
   "source": [
    "&#9989; **Question 2.2 (5 points)**: Through visual inspection, let's confirm that these sightings do, in fact, come from the United States.\n",
    "\n",
    "**Make a [scatter plot](https://en.wikipedia.org/wiki/Scatter_plot) of latitude (on the $y$-axis) vs. longitude (on the $x$-axis)**.\n",
    "\n",
    "In order to ensure that you can identify gaps between data points, **set the size of the scatter plot points to 1**. Also, because you must be tired of looking at the default plotting colors at this point, **make the points a different color than the default.**\n",
    "\n",
    "**Give your $x$ and $y$ axes appropriate labels!**\n",
    "\n",
    "Does the resulting plot meet your expectations? Is there anything that surprises you about the plot? Discuss your observations of the plot in the markdown cell below."
   ]
  },
  {
   "cell_type": "code",
   "execution_count": 3,
   "metadata": {},
   "outputs": [
    {
     "data": {
      "image/png": "[encoded data removed]",
      "text/plain": [
       "<Figure size 1440x720 with 1 Axes>"
      ]
     },
     "metadata": {
      "needs_background": "light"
     },
     "output_type": "display_data"
    }
   ],
   "source": [
    "### Put your code here\n",
    "import matplotlib.pyplot as plt\n",
    "plt.figure(figsize=[20,10])\n",
    "plt.scatter(ufo['longitude'],ufo['latitude'],marker='.')\n",
    "plt.title('Map of UFO sightings in the United States')\n",
    "plt.xlabel('Longitude')\n",
    "plt.ylabel('Latitude')\n",
    "plt.show()"
   ]
  },
  {
   "cell_type": "markdown",
   "metadata": {},
   "source": [
    "**<font size=+3>&#9998;</font> Do This**: *The plot looks like a map of the United States almost perfectly. I was surprised how many UFO sightings there are and that they take place almost everywhere there is people.*"
   ]
  },
  {
   "cell_type": "markdown",
   "metadata": {},
   "source": [
    "&#9989; **Question 2.3 (3 points)**: What built-in Pandas function can you use to get a quick statistical summary of your data (e.g. the mean, standard deviation, min, max, etc)? **Use this function to summarize the data and then answer the following questions**:\n",
    "\n",
    "1. Do you get summary information values for all of the columns? If not, why do you think that is?\n",
    "2. Are the mean and standard deviation values for the \"latitude\" and \"longitude\" columns useful in this context? What about the mean and standard deviation of the \"duration\" column? Defend your answer!"
   ]
  },
  {
   "cell_type": "code",
   "execution_count": 4,
   "metadata": {},
   "outputs": [
    {
     "data": {
      "text/html": [
       "<div>\n",
       "<style scoped>\n",
       "    .dataframe tbody tr th:only-of-type {\n",
       "        vertical-align: middle;\n",
       "    }\n",
       "\n",
       "    .dataframe tbody tr th {\n",
       "        vertical-align: top;\n",
       "    }\n",
       "\n",
       "    .dataframe thead th {\n",
       "        text-align: right;\n",
       "    }\n",
       "</style>\n",
       "<table border=\"1\" class=\"dataframe\">\n",
       "  <thead>\n",
       "    <tr style=\"text-align: right;\">\n",
       "      <th></th>\n",
       "      <th>duration (seconds)</th>\n",
       "      <th>latitude</th>\n",
       "      <th>longitude</th>\n",
       "    </tr>\n",
       "  </thead>\n",
       "  <tbody>\n",
       "    <tr>\n",
       "      <th>count</th>\n",
       "      <td>6.355300e+04</td>\n",
       "      <td>63553.000000</td>\n",
       "      <td>63553.000000</td>\n",
       "    </tr>\n",
       "    <tr>\n",
       "      <th>mean</th>\n",
       "      <td>5.527375e+03</td>\n",
       "      <td>38.323067</td>\n",
       "      <td>-95.578241</td>\n",
       "    </tr>\n",
       "    <tr>\n",
       "      <th>std</th>\n",
       "      <td>4.065878e+05</td>\n",
       "      <td>5.554694</td>\n",
       "      <td>18.061096</td>\n",
       "    </tr>\n",
       "    <tr>\n",
       "      <th>min</th>\n",
       "      <td>1.000000e-02</td>\n",
       "      <td>17.967778</td>\n",
       "      <td>-176.658056</td>\n",
       "    </tr>\n",
       "    <tr>\n",
       "      <th>25%</th>\n",
       "      <td>3.000000e+01</td>\n",
       "      <td>34.098333</td>\n",
       "      <td>-114.362778</td>\n",
       "    </tr>\n",
       "    <tr>\n",
       "      <th>50%</th>\n",
       "      <td>1.800000e+02</td>\n",
       "      <td>38.951667</td>\n",
       "      <td>-89.985833</td>\n",
       "    </tr>\n",
       "    <tr>\n",
       "      <th>75%</th>\n",
       "      <td>6.000000e+02</td>\n",
       "      <td>41.900000</td>\n",
       "      <td>-80.912222</td>\n",
       "    </tr>\n",
       "    <tr>\n",
       "      <th>max</th>\n",
       "      <td>6.627600e+07</td>\n",
       "      <td>70.636944</td>\n",
       "      <td>-65.831667</td>\n",
       "    </tr>\n",
       "  </tbody>\n",
       "</table>\n",
       "</div>"
      ],
      "text/plain": [
       "       duration (seconds)      latitude     longitude\n",
       "count        6.355300e+04  63553.000000  63553.000000\n",
       "mean         5.527375e+03     38.323067    -95.578241\n",
       "std          4.065878e+05      5.554694     18.061096\n",
       "min          1.000000e-02     17.967778   -176.658056\n",
       "25%          3.000000e+01     34.098333   -114.362778\n",
       "50%          1.800000e+02     38.951667    -89.985833\n",
       "75%          6.000000e+02     41.900000    -80.912222\n",
       "max          6.627600e+07     70.636944    -65.831667"
      ]
     },
     "execution_count": 4,
     "metadata": {},
     "output_type": "execute_result"
    }
   ],
   "source": [
    "### Put your code here\n",
    "ufo.describe()"
   ]
  },
  {
   "cell_type": "markdown",
   "metadata": {},
   "source": [
    "**<font size=+3>&#9998;</font> Do This**: *1. No, you only get information from columns that contain numerical values. Data that contains strings cannot have this kind of statistical analysis preformed on it.*\n",
    "\n",
    "*2. The mean for the lat and long show where the ufo sightings are most concentrated and the std shows how spread out they are. For the duration it is even more useful showing how long the average encoutner lasts.*"
   ]
  },
  {
   "cell_type": "markdown",
   "metadata": {},
   "source": [
    "&#9989; **Question 2.4 (5 points)**: How long do these UFO sightings generally last?\n",
    "\n",
    "First, **make a [histogram](https://en.wikipedia.org/wiki/Histogram) of the durations of the UFO sightings for the entire dataset.** If you don't recall how to make histograms using Python, you might need to do a bit of internet search and review some documentation.\n",
    "\n",
    "Second, **make a histogram (using 16 bins) of all the sightings where the duration was less than 1000 seconds.** You should use a mask to make this second histogram.\n",
    "\n",
    "What do these two histograms tell you about the how long UFO sighting last in general? Which of the histograms is more useful? Would you argue that there are any outliers in the dataset? Explain your answers in the markdown cell below!"
   ]
  },
  {
   "cell_type": "code",
   "execution_count": 5,
   "metadata": {},
   "outputs": [
    {
     "data": {
      "image/png": "[encoded data removed]",
      "text/plain": [
       "<Figure size 432x288 with 1 Axes>"
      ]
     },
     "metadata": {
      "needs_background": "light"
     },
     "output_type": "display_data"
    },
    {
     "data": {
      "image/png": "[encoded data removed]",
      "text/plain": [
       "<Figure size 432x288 with 1 Axes>"
      ]
     },
     "metadata": {
      "needs_background": "light"
     },
     "output_type": "display_data"
    }
   ],
   "source": [
    "### Put your code here\n",
    "ufo['duration (seconds)'].hist(bins=30, range=(0,3000))\n",
    "plt.title('UFO Sighting Duration')\n",
    "plt.ylabel('Count')\n",
    "plt.xlabel('Duration (seconds)')\n",
    "plt.show()\n",
    "\n",
    "mask = ufo['duration (seconds)'] < 1000\n",
    "ufo_a = ufo[mask]\n",
    "ufo_a['duration (seconds)'].hist(bins=16)\n",
    "plt.title('UFO Sighting Duration under 1000 seconds')\n",
    "plt.ylabel('Count')\n",
    "plt.xlabel('Duration (seconds)')\n",
    "plt.show()"
   ]
  },
  {
   "cell_type": "markdown",
   "metadata": {},
   "source": [
    "**<font size=+3>&#9998;</font> Do This**: *These histograms show that most UFO sightings last a short time, less then 200 seconds for most. I believe the histogram for data under 1000 second is more useful for showing the duration of sightings. The data above 2000 seconds would appear to be outliners, there are very few enteries. There are a few more outliers around 600 and 900 seconds."
   ]
  },
  {
   "cell_type": "markdown",
   "metadata": {},
   "source": [
    "&#9989; **Question 2.5 (3 points)**: One of the columns in the dataset is \"shape\" and there are 28 unique categories for this column, but how common are some of these classifications?\n",
    "\n",
    "In order to answer this question for at least some of the shapes, **determine what percentage of all of the all observations were classified as**:\n",
    "\n",
    "1. \"sphere\"\n",
    "2. \"fireball\"\n",
    "3. \"triangle\"\n",
    "\n",
    "**Print your results and make sure to include some text to indicate which percentage corresponds to which shape**.\n",
    "\n",
    "*Note*: you should end up 3 different percentages, one for each of the shapes list above.\n",
    "\n",
    "*Hint*: this can be done most easily using masks, but it can be done with loops as well, if necessary."
   ]
  },
  {
   "cell_type": "code",
   "execution_count": 13,
   "metadata": {},
   "outputs": [
    {
     "name": "stdout",
     "output_type": "stream",
     "text": [
      "Shape of UFOs\n",
      "Shpere: 6.83838685821283%\n",
      "Fireball: 8.100325712397527%\n",
      "Triangle: 10.303211492769815%\n"
     ]
    }
   ],
   "source": [
    "### Put your code here\n",
    "sphere = len(ufo[ufo['shape']=='sphere'].index)/len(ufo.index)*100\n",
    "fireball = len(ufo[ufo['shape']=='fireball'].index)/len(ufo.index)*100\n",
    "triangle = len(ufo[ufo['shape']=='triangle'].index)/len(ufo.index)*100\n",
    "print('Shape of UFOs\\nShpere:',str(sphere)+'%\\nFireball:',str(fireball)+'%\\nTriangle:',str(triangle)+'%')"
   ]
  },
  {
   "cell_type": "markdown",
   "metadata": {},
   "source": [
    "&#9989; **Question 2.6 (3 points)**: Which state has the most UFO sightings?\n",
    "\n",
    "Using any method you wish, you are now tasked with **determining which state has had the most UFO sightings based on this dataset**. You must defend your answer with either a visualization or a calculation -- it's up to you!\n",
    "\n",
    "Explain the conclusion you come to in the markdown cell below."
   ]
  },
  {
   "cell_type": "code",
   "execution_count": 23,
   "metadata": {},
   "outputs": [
    {
     "data": {
      "image/png": "[encoded data removed]",
      "text/plain": [
       "<Figure size 1440x720 with 1 Axes>"
      ]
     },
     "metadata": {
      "needs_background": "light"
     },
     "output_type": "display_data"
    }
   ],
   "source": [
    "### Put your code here\n",
    "plt.figure(figsize=[20,10])\n",
    "ufo['state'].hist(bins=52,rwidth=.5)\n",
    "plt.title('Number of UFO Sighting in each state')\n",
    "plt.ylabel('Count')\n",
    "plt.xlabel('State')\n",
    "plt.show()"
   ]
  },
  {
   "cell_type": "markdown",
   "metadata": {},
   "source": [
    "**<font size=+3>&#9998;</font> Do This**: California has the most sightings by a wide margine with over double of the next closest state. *"
   ]
  },
  {
   "cell_type": "markdown",
   "metadata": {},
   "source": [
    "---\n",
    "### &#128721; STOP\n",
    "**Pause to commit your changes to your Git repository!**\n",
    "\n",
    "Take a moment to save your notebook, commit the changes to your Git repository using the commit message \"Committing Part 2\", and push the changes to GitHub.\n",
    "\n",
    "---"
   ]
  },
  {
   "cell_type": "markdown",
   "metadata": {},
   "source": [
    "## Part 3: Writing a simple Python class (18 points)\n",
    "\n",
    "### 3.1 Using and enhancing a pre-existing class (12 points)\n",
    "\n",
    "For this section, you're going to expand on the pre-existing Python class contained in a file called `budget.py`. You'll need to download this script and put it in the same location as this notebook. **You should also add it and commit it to your repository in the same `hw-02` folder**. You will also **turn in your final version of this script into D2L along with your notebook**.\n",
    "\n",
    "You can download the file from here:\n",
    "\n",
    "`https://raw.githubusercontent.com/msu-cmse-courses/cmse202-F21-data/main/code_samples/budget.py`\n",
    "\n",
    "The Python class contained in this script is called `Budget` and, not surprisingly, it is designed to store information about a monthly budget. Currently it only has one simple method, which prints the current monthly income.\n",
    "\n",
    "Let's first confirm that you've got the script in the right place and that everything imports and runs correctly.\n",
    "\n",
    "**&#9989; Do this:** Execute the cell below to makes sure that your newly downloaded Budget class is working correctly. It should run without errors and print the following:\n",
    "```Your current income is 2000 dollars```"
   ]
  },
  {
   "cell_type": "code",
   "execution_count": null,
   "metadata": {},
   "outputs": [],
   "source": [
    "# The \"magic\" command below tells Jupyter Notebook to automatically load classes and methods from external files \n",
    "# in case they have changed from last load time;\n",
    "# This is needed when you change the budget.py file\n",
    "%reload_ext autoreload\n",
    "%autoreload 2\n",
    "\n",
    "from budget import Budget\n",
    "\n",
    "# Initialize the budget \n",
    "my_budget = Budget(2000)\n",
    "# Check that the income was initialized correctly\n",
    "my_budget.get_income()"
   ]
  },
  {
   "cell_type": "markdown",
   "metadata": {},
   "source": [
    "**&#9989; Question 3.1.1 (8 points); Make sure to read _everything_ carefully!:** Using this class as a starting point, your goal is to do the following:\n",
    "\n",
    "* Add a new attribute, `expenses`, to the class so that it is set to a default of `0` when the class object is first initialized. This attribute will represent the sum all of expenses defined in the budget.\n",
    "* Add another new attribute, `categories`, to the class such that the attribute is initialized to be an empty dictionary (`{}`) when the class object is first created. This dictionary will serve as a place to store expense category labels and the intended spending limit for that category.\n",
    "* Add a new class method, `add_expense`, that takes **two inputs**:\n",
    "    - `category`\n",
    "    - `limit`\n",
    "<br> Using these two inputs, **this method should**:\n",
    "    1. Update the `categories` dictionary attribute to include the new `category` as a dictionary key and the `limit` as the value associated with that key.\n",
    "    2. Add this limit value to the total `expenses` attribute.\n",
    "* Add another new class method, `check_budget`, that compares the total income to the total expenses and calculates whether or not you are currently at or under budget or over budget. **The method should do the following**:\n",
    "    - Print `Income is <amount> dollars.` where `<amount>` is the current monthly income.\n",
    "    - Print `Expenses total <amount> dollars.` where `<amount>` is the current total expenses.\n",
    "    - If you are currently at or under budget, it should print: `You are at or under budget. You have <amount> dollars remaining.` where `<amount>` is the current difference between the income and the expenses.\n",
    "    - If you are over budget, it should print: `You are <amount> dollars over budget! Adjust your expenses.` Again, `<amount>` should be the current difference between your income and expenses. (Make sure the sign on the amount is correct!) \n",
    "* Add one final new method, `adjust_income`, that takes one input, `adjustment`, which is the amount to increment or decrement the current monthly income. This method should update the `income` attribute appropriately. \n",
    "\n",
    "**Note**: You should practice writing [docstrings](https://www.programiz.com/python-programming/docstrings) in your budget script so that it is clear what your methods are doing! You can look at the provided code to get a sense for how this is done.\n",
    "\n",
    "In order to check that everything is working correctly, **run the following cell**. It should not return any errors and should print the following:\n",
    "```\n",
    "Income is 2000 dollars.\n",
    "Expenses total 1100 dollars.\n",
    "You are at or under budget. You have 900 dollars remaining.\n",
    "```"
   ]
  },
  {
   "cell_type": "code",
   "execution_count": null,
   "metadata": {},
   "outputs": [],
   "source": [
    "# The \"magic\" command below tells Jupyter Notebook to automatically load classes and methods from external files \n",
    "# in case they have changed from last load time;\n",
    "# This is needed when you change the budget.py file\n",
    "%reload_ext autoreload\n",
    "%autoreload 2\n",
    "\n",
    "from budget import Budget\n",
    "\n",
    "my_budget = Budget(2000)\n",
    "\n",
    "my_budget.add_expense('Food', 200)\n",
    "my_budget.add_expense('Rent', 750)\n",
    "my_budget.add_expense('Utilities', 150)\n",
    "\n",
    "my_budget.check_budget()"
   ]
  },
  {
   "cell_type": "markdown",
   "metadata": {},
   "source": [
    "#### Testing _all_ of your code is important!\n",
    "\n",
    "Any time you write new code, you should get in the habit of trying to test it to make sure it is working as intended, but we didn't check **all** of your new functionality in the code cell above.\n",
    "\n",
    "**&#9989; Question 3.1.2 (2 points):** Is everything working correctly if you are currently over budget?\n",
    "\n",
    "**Write some code that proves that your `check_budget` method is working correctly when you are _over_ budget.** You have some options for how you might do this. You can add more expenses or adjust your monthly income. It's up to you!\n",
    "\n",
    "*Remember*, if you're editing your script and testing things out, you may need to make sure your class is being imported again to ensure that you're using the newest version of your script.\n",
    "\n",
    "In the markdown cell below your code, **explain how you know that your method is working correctly based on the code that you provided**.\n"
   ]
  },
  {
   "cell_type": "code",
   "execution_count": null,
   "metadata": {},
   "outputs": [],
   "source": [
    "### Put your code here\n"
   ]
  },
  {
   "cell_type": "markdown",
   "metadata": {},
   "source": [
    "**<font size=+3>&#9998;</font> Do This** - Erase the contents of this cell and replace it with your explanation for how you know that you `check_budget` function is working correctly."
   ]
  },
  {
   "cell_type": "markdown",
   "metadata": {},
   "source": [
    "**&#9989; Question 3.1.3 (2 points):** Is your `adjust_income` method working correctly?\n",
    "\n",
    "**Write some code that proves that your `adjust_income` method is working correctly.**\n",
    "\n",
    "*Remember*, if you're editing your script and testing things out, you may need to make sure your class is being imported again to ensure that you're using the newest version of your script.\n",
    "\n",
    "In the markdown cell below your code, **explain how you know that your method is working correctly based on the code that you provided.**"
   ]
  },
  {
   "cell_type": "code",
   "execution_count": null,
   "metadata": {},
   "outputs": [],
   "source": [
    "### Put your code here\n"
   ]
  },
  {
   "cell_type": "markdown",
   "metadata": {},
   "source": [
    "**<font size=+3>&#9998;</font> Do This** - Erase the contents of this cell and replace it with your explanation for how you know that you `adjust_income` function is working correctly."
   ]
  },
  {
   "cell_type": "markdown",
   "metadata": {},
   "source": [
    "---\n",
    "### &#128721; STOP\n",
    "**Pause to commit your changes to your Git repository!**\n",
    "\n",
    "Take a moment to save your notebook, commit the changes to your Git repository using the commit message \"Committing part 3.1\", and push the changes to GitHub. **Make sure you've added your version of `budget.py` to your repository!**\n",
    "\n",
    "---"
   ]
  },
  {
   "cell_type": "markdown",
   "metadata": {},
   "source": [
    "### 3.2 Inheriting your new class (6 points)\n",
    "\n",
    "Once we've built a class, if we decide we need some sort of specialized functionality, we can create a new class that inherits all of the properties of the first one. Let's do that now!\n",
    "\n",
    "**&#9989; Question 3.2.1 (4 points)**: Now that you have a functioning class, your next task is to create a second class, `EnhancedBudget`, that **inherits** the `Budget` class. **You should create this new class in the same `budget.py` script.** When you're done, there should be two different classes available to be imported from the script: `Budget` and `EnhancedBudget`.\n",
    "\n",
    "In this new `EnhancedBudget` class, do the following:\n",
    "\n",
    "* add a new class attribute, `transactions`. This should be initialized when the `EnhancedBudget` is created and should default to being an empty dictionary (`{}`). This dictionary will have **budget categories as its keys** and the **values associated with each key will be a list of the transactions (in dollars)** logged for that category.\n",
    "* add a new class method, `log_transaction`, that takes two inputs: `category` and `amount`.\n",
    "  Using these two inputs, this method should for the following:\n",
    "    1. Check to see if the provided category is already in the `transactions` dictionary.\n",
    "    2. If it is, it should append the `amount` to the list of amounts that already exist in that category.\n",
    "    3. If it isn't already in the `transactions` dictionary, it should create a new list associated with that `category` key with the `amount` as the first entry in the list.\n",
    "\n",
    "With this new attribute and this new method, you should be able to log transactions in your new enhanced budget object!\n",
    "\n",
    "In order to see if your code is working, run the following cell. If everyting is set up correctly, it should output the following:\n",
    "```\n",
    "Income is 2000 dollars.\n",
    "Expenses total 1100 dollars.\n",
    "You are at or under budget. You have 900 dollars remaining.\n",
    "Transaction Log: {'Food': [7, 12.5], 'Rent': [750], 'Utilities': [20, 55]}\n",
    "```"
   ]
  },
  {
   "cell_type": "code",
   "execution_count": null,
   "metadata": {},
   "outputs": [],
   "source": [
    "# The magic command below instructs Jupyter Notebook to automatically load classes and methods from external files \n",
    "# in case they have changed from last load time;\n",
    "# This is needed when you change the Animal.py file\n",
    "%reload_ext autoreload\n",
    "%autoreload 2\n",
    "\n",
    "# Import the new class from the budget script\n",
    "from budget import EnhancedBudget\n",
    "\n",
    "# Define a new enhanced budget object\n",
    "my_budget = EnhancedBudget(2000)\n",
    "\n",
    "# Check that our inherited methods work\n",
    "my_budget.add_expense('Food', 200)\n",
    "my_budget.add_expense('Rent', 750)\n",
    "my_budget.add_expense('Utilities', 150)\n",
    "my_budget.check_budget()\n",
    "\n",
    "# Test the new functionality\n",
    "my_budget.log_transaction('Food',7)\n",
    "my_budget.log_transaction('Food',12.50)\n",
    "my_budget.log_transaction('Rent',750)\n",
    "my_budget.log_transaction('Utilities',20)\n",
    "my_budget.log_transaction('Utilities',55)\n",
    "print(\"Transaction Log:\",my_budget.transactions)"
   ]
  },
  {
   "cell_type": "markdown",
   "metadata": {},
   "source": [
    "#### Thinking about additional functionality\n",
    "\n",
    "Now that you have this new enhanced budget tool, let's think about what else we might be able to use it for.\n",
    "\n",
    "**&#9989; Question 3.2.2 (2 points)**: What if we wanted to compute the total cost of all transactions we had in **each category** at the end of the month? Perhaps we could create a `calculate_total_transactions` method for doing this? This would be really useful to see if our spending habits stay within our budget limits!\n",
    "\n",
    "**Without writing any code, explain how you would go about building such a method.** What would it need to do? How would it need to work? What would happen if there were no transactions logged in the budget? What would be the output look like? **Be as detailed as possible** so that if someone were trying to code up a solution based on your explanation, they would be able to do so.\n",
    "\n",
    "If you have trouble explaining how your code would work, try writing pseudocode or, if you like, feel free to try coding up a solution and show that it works. **No working code is actually required**."
   ]
  },
  {
   "cell_type": "markdown",
   "metadata": {},
   "source": [
    "**<font size=+3>&#9998;</font> Do This** - Erase the contents of this cell and replace it with your explanation for how you would write a `calculate_total_transactions` method."
   ]
  },
  {
   "cell_type": "markdown",
   "metadata": {},
   "source": [
    "---\n",
    "### &#128721; STOP\n",
    "**Pause to commit your changes to your Git repository!**\n",
    "\n",
    "Take a moment to save your notebook, commit the changes to your Git repository using the commit message \"Committing part 3.2\", and push the changes to GitHub. **Make sure you've added and committed your newest version of `budget.py` to your repository!**\n",
    "\n",
    "---"
   ]
  },
  {
   "cell_type": "markdown",
   "metadata": {},
   "source": [
    "---\n",
    "## Assignment wrap-up\n",
    "\n",
    "Please fill out the form that appears when you run the code below.  **You must completely fill this out in order to receive credit for the assignment!**"
   ]
  },
  {
   "cell_type": "code",
   "execution_count": null,
   "metadata": {},
   "outputs": [],
   "source": [
    "from IPython.display import HTML\n",
    "HTML(\n",
    "\"\"\"\n",
    "<iframe \n",
    "\tsrc=\"https://forms.office.com/Pages/ResponsePage.aspx?id=MHEXIi9k2UGSEXQjetVofddd5T-Pwn1DlT6_yoCyuCFUOE45QzdSMUcxTExOQkU3ODU2NlkwRFU1MS4u\" \n",
    "\twidth=\"800px\" \n",
    "\theight=\"600px\" \n",
    "\tframeborder=\"0\" \n",
    "\tmarginheight=\"0\" \n",
    "\tmarginwidth=\"0\">\n",
    "\tLoading...\n",
    "</iframe>\n",
    "\"\"\"\n",
    ")"
   ]
  },
  {
   "cell_type": "markdown",
   "metadata": {},
   "source": [
    "### Congratulations, you're done!\n",
    "\n",
    "Submit this assignment by uploading it to the course Desire2Learn web page.  Go to the \"Homework Assignments\" folder, find the dropbox link for Homework #2, and upload **both your notebook and your budget.py script** there."
   ]
  },
  {
   "cell_type": "markdown",
   "metadata": {},
   "source": [
    "&#169; Copyright 2021,  Department of Computational Mathematics, Science and Engineering at Michigan State University"
   ]
  }
 ],
 "metadata": {
  "anaconda-cloud": {},
  "kernelspec": {
   "display_name": "Python 3 (ipykernel)",
   "language": "python",
   "name": "python3"
  },
  "language_info": {
   "codemirror_mode": {
    "name": "ipython",
    "version": 3
   },
   "file_extension": ".py",
   "mimetype": "text/x-python",
   "name": "python",
   "nbconvert_exporter": "python",
   "pygments_lexer": "ipython3",
   "version": "3.8.11"
  }
 },
 "nbformat": 4,
 "nbformat_minor": 4
}
