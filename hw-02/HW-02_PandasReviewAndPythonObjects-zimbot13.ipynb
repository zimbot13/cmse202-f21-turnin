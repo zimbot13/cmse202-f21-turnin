{
 "cells": [
  {
   "cell_type": "markdown",
   "metadata": {},
   "source": [
    "# Homework Assignment #2 (Individual)\n",
    "## Pandas Review and Writing Python Classes"
   ]
  },
  {
   "cell_type": "markdown",
   "metadata": {},
   "source": [
    "### <p style=\"text-align: right;\"> &#9989; Ted Zimbo</p>\n",
    "### <p style=\"text-align: right;\"> &#9989; zimbot13</p>"
   ]
  },
  {
   "cell_type": "markdown",
   "metadata": {},
   "source": [
    "<img src=\"https://files.realpython.com/media/Object-Oriented-Programming-OOP-in-Python-3_Watermarked.0d29780806d5.jpg\" width=400px align=\"right\" style=\"margin-left: 20px\" alt=\"Image credit: www.noao.edu\">\n",
    "\n",
    "### Goals for this homework assignment\n",
    "By the end of this assignment, you should be able to:\n",
    "* Use Git to create a repository, track changes to the files within the repository, and push those changes to a remote repository.\n",
    "* Use your Pandas skills to load and explore some data and visualize it with matplotlib\n",
    "* Read and write Python classes, including classes that leverage object inheritance\n",
    "\n",
    "Work through the following assignment, making sure to follow all of the directions and answer all of the questions.\n",
    "\n",
    "There are **42 points** possible on this assignment. Point values for each part are included in the section headers and question prompts.\n",
    "\n",
    "**This assignment is due roughly two weeks from now at 11:59 pm on Friday, October 8.** It should be uploaded into the \"Homework Assignments\" submission folder for Homework #2.  Submission instructions can be found at the end of the notebook."
   ]
  },
  {
   "cell_type": "markdown",
   "metadata": {},
   "source": [
    "---\n",
    "## Part 1: Add to your Git repository to track your progress on your assignment (3 points)\n",
    "\n",
    "For this assignment, you're going to add it to the `cmse202-sf1-turnin` repository you created in class so that you can track your progress on the assignment and preserve the final version that you turn in. In order to do this you need to\n",
    "\n",
    "**&#9989; Do the following**:\n",
    "\n",
    "1. Navigate to your `cmse202-f21-turnin` repository and create a new directory called `hw-02`.\n",
    "2. Move this notebook into that **new directory** in your repository, then **add it and commit it to your repository**.\n",
    "1. Finally, to test that everything is working, \"git push\" the file so that it ends up in your GitHub repository.\n",
    "\n",
    "**Important**: Double check you've added your Professor and your TA as collaborators to your \"turnin\" respository (you should have done this in the previous homework assignment).\n",
    "\n",
    "**Also important**: Make sure that the version of this notebook that you are working on is the same one that you just added to your repository! If you are working on a different copy of the noteobok, **none of your changes will be tracked**!\n",
    "\n",
    "If everything went as intended, the file should now show up on your GitHub account in the \"`cmse202-f21-turnin`\" repository inside the `hw-02` directory that you just created.  Periodically, **you'll be asked to commit your changes to the repository and push them to the remote GitHub location**. Of course, you can always commit your changes more often than that, if you wish.  It can be good to get into a habit of committing your changes any time you make a significant modification, or when you stop working on the project for a bit.\n",
    "\n",
    "&#9989; **Do this**: Before you move on, put the command that your instructor should run to clone your repository in the markdown cell below."
   ]
  },
  {
   "cell_type": "markdown",
   "metadata": {},
   "source": [
    "``` bash\n",
    "# Put the command for cloning your repository here!\n",
    "\n",
    "```"
   ]
  },
  {
   "cell_type": "markdown",
   "metadata": {},
   "source": [
    "---\n",
    "## Part 2: Load, manipulate, and visualize data with Pandas (21 points)\n",
    "\n",
    "For this part of the assignment, you're going to brush off your Pandas skills and your data manipulation and visualization skills. Throughout the course we'll continue to work with data, so this should be a good opportunity to remind yourself of some tools and techniques you picked up in CMSE 201 or perhaps learn something new."
   ]
  },
  {
   "cell_type": "markdown",
   "metadata": {},
   "source": [
    "### Analyzing UFO sighting data\n",
    "\n",
    "In particular, you're going to be working with a dataset that contains a set of recorded UFO sightings in the United States. The dataset originally comes from [here](http://www.nuforc.org/).\n",
    "\n",
    "In case you're not aware, \"UFO\" stands for \"Unidentified Flying Object\", which some people argue are observations of extraterrestrial spacecraft, but most often are later identified as conventional objects or phenonmena.\n",
    "\n",
    "You'll be working with a reduced version of the dataset, which you can download using `curl` from here:\n",
    "\n",
    "`https://raw.githubusercontent.com/msu-cmse-courses/cmse202-F21-data/main/data/ufos.csv`"
   ]
  },
  {
   "cell_type": "markdown",
   "metadata": {},
   "source": [
    "&#9989; **Question 2.1 (2 points)**: To get started, **read in the `ufos.csv` dataset using Pandas** and then use Pandas to display the first 15 rows of the data."
   ]
  },
  {
   "cell_type": "code",
   "execution_count": null,
   "metadata": {},
   "outputs": [],
   "source": [
    "### Put your code here\n"
   ]
  },
  {
   "cell_type": "markdown",
   "metadata": {},
   "source": [
    "&#9989; **Question 2.2 (5 points)**: Through visual inspection, let's confirm that these sightings do, in fact, come from the United States.\n",
    "\n",
    "**Make a [scatter plot](https://en.wikipedia.org/wiki/Scatter_plot) of latitude (on the $y$-axis) vs. longitude (on the $x$-axis)**.\n",
    "\n",
    "In order to ensure that you can identify gaps between data points, **set the size of the scatter plot points to 1**. Also, because you must be tired of looking at the default plotting colors at this point, **make the points a different color than the default.**\n",
    "\n",
    "**Give your $x$ and $y$ axes appropriate labels!**\n",
    "\n",
    "Does the resulting plot meet your expectations? Is there anything that surprises you about the plot? Discuss your observations of the plot in the markdown cell below."
   ]
  },
  {
   "cell_type": "code",
   "execution_count": null,
   "metadata": {},
   "outputs": [],
   "source": [
    "### Put your code here\n"
   ]
  },
  {
   "cell_type": "markdown",
   "metadata": {},
   "source": [
    "**<font size=+3>&#9998;</font> Do This**: *Record your observations of your plot here.*"
   ]
  },
  {
   "cell_type": "markdown",
   "metadata": {},
   "source": [
    "&#9989; **Question 2.3 (3 points)**: What built-in Pandas function can you use to get a quick statistical summary of your data (e.g. the mean, standard deviation, min, max, etc)? **Use this function to summarize the data and then answer the following questions**:\n",
    "\n",
    "1. Do you get summary information values for all of the columns? If not, why do you think that is?\n",
    "2. Are the mean and standard deviation values for the \"latitude\" and \"longitude\" columns useful in this context? What about the mean and standard deviation of the \"duration\" column? Defend your answer!"
   ]
  },
  {
   "cell_type": "code",
   "execution_count": null,
   "metadata": {},
   "outputs": [],
   "source": [
    "### Put your code here\n"
   ]
  },
  {
   "cell_type": "markdown",
   "metadata": {},
   "source": [
    "**<font size=+3>&#9998;</font> Do This**: *Record your answers here to points 1 and 2 from above.*"
   ]
  },
  {
   "cell_type": "markdown",
   "metadata": {},
   "source": [
    "&#9989; **Question 2.4 (5 points)**: How long do these UFO sightings generally last?\n",
    "\n",
    "First, **make a [histogram](https://en.wikipedia.org/wiki/Histogram) of the durations of the UFO sightings for the entire dataset.** If you don't recall how to make histograms using Python, you might need to do a bit of internet search and review some documentation.\n",
    "\n",
    "Second, **make a histogram (using 16 bins) of all the sightings where the duration was less than 1000 seconds.** You should use a mask to make this second histogram.\n",
    "\n",
    "What do these two histograms tell you about the how long UFO sighting last in general? Which of the histograms is more useful? Would you argue that there are any outliers in the dataset? Explain your answers in the markdown cell below!"
   ]
  },
  {
   "cell_type": "code",
   "execution_count": null,
   "metadata": {},
   "outputs": [],
   "source": [
    "### Put your code here\n"
   ]
  },
  {
   "cell_type": "markdown",
   "metadata": {},
   "source": [
    "**<font size=+3>&#9998;</font> Do This**: *Record your answers to the questions at the end of Question 2.4 here.*"
   ]
  },
  {
   "cell_type": "markdown",
   "metadata": {},
   "source": [
    "&#9989; **Question 2.5 (3 points)**: One of the columns in the dataset is \"shape\" and there are 28 unique categories for this column, but how common are some of these classifications?\n",
    "\n",
    "In order to answer this question for at least some of the shapes, **determine what percentage of all of the all observations were classified as**:\n",
    "\n",
    "1. \"sphere\"\n",
    "2. \"fireball\"\n",
    "3. \"triangle\"\n",
    "\n",
    "**Print your results and make sure to include some text to indicate which percentage corresponds to which shape**.\n",
    "\n",
    "*Note*: you should end up 3 different percentages, one for each of the shapes list above.\n",
    "\n",
    "*Hint*: this can be done most easily using masks, but it can be done with loops as well, if necessary."
   ]
  },
  {
   "cell_type": "code",
   "execution_count": null,
   "metadata": {},
   "outputs": [],
   "source": [
    "### Put your code here\n"
   ]
  },
  {
   "cell_type": "markdown",
   "metadata": {},
   "source": [
    "&#9989; **Question 2.6 (3 points)**: Which state has the most UFO sightings?\n",
    "\n",
    "Using any method you wish, you are now tasked with **determining which state has had the most UFO sightings based on this dataset**. You must defend your answer with either a visualization or a calculation -- it's up to you!\n",
    "\n",
    "Explain the conclusion you come to in the markdown cell below."
   ]
  },
  {
   "cell_type": "code",
   "execution_count": null,
   "metadata": {},
   "outputs": [],
   "source": [
    "### Put your code here\n"
   ]
  },
  {
   "cell_type": "markdown",
   "metadata": {},
   "source": [
    "**<font size=+3>&#9998;</font> Do This**: *State your conclusion and justify it based on your results.*"
   ]
  },
  {
   "cell_type": "markdown",
   "metadata": {},
   "source": [
    "---\n",
    "### &#128721; STOP\n",
    "**Pause to commit your changes to your Git repository!**\n",
    "\n",
    "Take a moment to save your notebook, commit the changes to your Git repository using the commit message \"Committing Part 2\", and push the changes to GitHub.\n",
    "\n",
    "---"
   ]
  },
  {
   "cell_type": "markdown",
   "metadata": {},
   "source": [
    "## Part 3: Writing a simple Python class (18 points)\n",
    "\n",
    "### 3.1 Using and enhancing a pre-existing class (12 points)\n",
    "\n",
    "For this section, you're going to expand on the pre-existing Python class contained in a file called `budget.py`. You'll need to download this script and put it in the same location as this notebook. **You should also add it and commit it to your repository in the same `hw-02` folder**. You will also **turn in your final version of this script into D2L along with your notebook**.\n",
    "\n",
    "You can download the file from here:\n",
    "\n",
    "`https://raw.githubusercontent.com/msu-cmse-courses/cmse202-F21-data/main/code_samples/budget.py`\n",
    "\n",
    "The Python class contained in this script is called `Budget` and, not surprisingly, it is designed to store information about a monthly budget. Currently it only has one simple method, which prints the current monthly income.\n",
    "\n",
    "Let's first confirm that you've got the script in the right place and that everything imports and runs correctly.\n",
    "\n",
    "**&#9989; Do this:** Execute the cell below to makes sure that your newly downloaded Budget class is working correctly. It should run without errors and print the following:\n",
    "```Your current income is 2000 dollars```"
   ]
  },
  {
   "cell_type": "code",
   "execution_count": null,
   "metadata": {},
   "outputs": [],
   "source": [
    "# The \"magic\" command below tells Jupyter Notebook to automatically load classes and methods from external files \n",
    "# in case they have changed from last load time;\n",
    "# This is needed when you change the budget.py file\n",
    "%reload_ext autoreload\n",
    "%autoreload 2\n",
    "\n",
    "from budget import Budget\n",
    "\n",
    "# Initialize the budget \n",
    "my_budget = Budget(2000)\n",
    "# Check that the income was initialized correctly\n",
    "my_budget.get_income()"
   ]
  },
  {
   "cell_type": "markdown",
   "metadata": {},
   "source": [
    "**&#9989; Question 3.1.1 (8 points); Make sure to read _everything_ carefully!:** Using this class as a starting point, your goal is to do the following:\n",
    "\n",
    "* Add a new attribute, `expenses`, to the class so that it is set to a default of `0` when the class object is first initialized. This attribute will represent the sum all of expenses defined in the budget.\n",
    "* Add another new attribute, `categories`, to the class such that the attribute is initialized to be an empty dictionary (`{}`) when the class object is first created. This dictionary will serve as a place to store expense category labels and the intended spending limit for that category.\n",
    "* Add a new class method, `add_expense`, that takes **two inputs**:\n",
    "    - `category`\n",
    "    - `limit`\n",
    "<br> Using these two inputs, **this method should**:\n",
    "    1. Update the `categories` dictionary attribute to include the new `category` as a dictionary key and the `limit` as the value associated with that key.\n",
    "    2. Add this limit value to the total `expenses` attribute.\n",
    "* Add another new class method, `check_budget`, that compares the total income to the total expenses and calculates whether or not you are currently at or under budget or over budget. **The method should do the following**:\n",
    "    - Print `Income is <amount> dollars.` where `<amount>` is the current monthly income.\n",
    "    - Print `Expenses total <amount> dollars.` where `<amount>` is the current total expenses.\n",
    "    - If you are currently at or under budget, it should print: `You are at or under budget. You have <amount> dollars remaining.` where `<amount>` is the current difference between the income and the expenses.\n",
    "    - If you are over budget, it should print: `You are <amount> dollars over budget! Adjust your expenses.` Again, `<amount>` should be the current difference between your income and expenses. (Make sure the sign on the amount is correct!) \n",
    "* Add one final new method, `adjust_income`, that takes one input, `adjustment`, which is the amount to increment or decrement the current monthly income. This method should update the `income` attribute appropriately. \n",
    "\n",
    "**Note**: You should practice writing [docstrings](https://www.programiz.com/python-programming/docstrings) in your budget script so that it is clear what your methods are doing! You can look at the provided code to get a sense for how this is done.\n",
    "\n",
    "In order to check that everything is working correctly, **run the following cell**. It should not return any errors and should print the following:\n",
    "```\n",
    "Income is 2000 dollars.\n",
    "Expenses total 1100 dollars.\n",
    "You are at or under budget. You have 900 dollars remaining.\n",
    "```"
   ]
  },
  {
   "cell_type": "code",
   "execution_count": null,
   "metadata": {},
   "outputs": [],
   "source": [
    "# The \"magic\" command below tells Jupyter Notebook to automatically load classes and methods from external files \n",
    "# in case they have changed from last load time;\n",
    "# This is needed when you change the budget.py file\n",
    "%reload_ext autoreload\n",
    "%autoreload 2\n",
    "\n",
    "from budget import Budget\n",
    "\n",
    "my_budget = Budget(2000)\n",
    "\n",
    "my_budget.add_expense('Food', 200)\n",
    "my_budget.add_expense('Rent', 750)\n",
    "my_budget.add_expense('Utilities', 150)\n",
    "\n",
    "my_budget.check_budget()"
   ]
  },
  {
   "cell_type": "markdown",
   "metadata": {},
   "source": [
    "#### Testing _all_ of your code is important!\n",
    "\n",
    "Any time you write new code, you should get in the habit of trying to test it to make sure it is working as intended, but we didn't check **all** of your new functionality in the code cell above.\n",
    "\n",
    "**&#9989; Question 3.1.2 (2 points):** Is everything working correctly if you are currently over budget?\n",
    "\n",
    "**Write some code that proves that your `check_budget` method is working correctly when you are _over_ budget.** You have some options for how you might do this. You can add more expenses or adjust your monthly income. It's up to you!\n",
    "\n",
    "*Remember*, if you're editing your script and testing things out, you may need to make sure your class is being imported again to ensure that you're using the newest version of your script.\n",
    "\n",
    "In the markdown cell below your code, **explain how you know that your method is working correctly based on the code that you provided**.\n"
   ]
  },
  {
   "cell_type": "code",
   "execution_count": null,
   "metadata": {},
   "outputs": [],
   "source": [
    "### Put your code here\n"
   ]
  },
  {
   "cell_type": "markdown",
   "metadata": {},
   "source": [
    "**<font size=+3>&#9998;</font> Do This** - Erase the contents of this cell and replace it with your explanation for how you know that you `check_budget` function is working correctly."
   ]
  },
  {
   "cell_type": "markdown",
   "metadata": {},
   "source": [
    "**&#9989; Question 3.1.3 (2 points):** Is your `adjust_income` method working correctly?\n",
    "\n",
    "**Write some code that proves that your `adjust_income` method is working correctly.**\n",
    "\n",
    "*Remember*, if you're editing your script and testing things out, you may need to make sure your class is being imported again to ensure that you're using the newest version of your script.\n",
    "\n",
    "In the markdown cell below your code, **explain how you know that your method is working correctly based on the code that you provided.**"
   ]
  },
  {
   "cell_type": "code",
   "execution_count": null,
   "metadata": {},
   "outputs": [],
   "source": [
    "### Put your code here\n"
   ]
  },
  {
   "cell_type": "markdown",
   "metadata": {},
   "source": [
    "**<font size=+3>&#9998;</font> Do This** - Erase the contents of this cell and replace it with your explanation for how you know that you `adjust_income` function is working correctly."
   ]
  },
  {
   "cell_type": "markdown",
   "metadata": {},
   "source": [
    "---\n",
    "### &#128721; STOP\n",
    "**Pause to commit your changes to your Git repository!**\n",
    "\n",
    "Take a moment to save your notebook, commit the changes to your Git repository using the commit message \"Committing part 3.1\", and push the changes to GitHub. **Make sure you've added your version of `budget.py` to your repository!**\n",
    "\n",
    "---"
   ]
  },
  {
   "cell_type": "markdown",
   "metadata": {},
   "source": [
    "### 3.2 Inheriting your new class (6 points)\n",
    "\n",
    "Once we've built a class, if we decide we need some sort of specialized functionality, we can create a new class that inherits all of the properties of the first one. Let's do that now!\n",
    "\n",
    "**&#9989; Question 3.2.1 (4 points)**: Now that you have a functioning class, your next task is to create a second class, `EnhancedBudget`, that **inherits** the `Budget` class. **You should create this new class in the same `budget.py` script.** When you're done, there should be two different classes available to be imported from the script: `Budget` and `EnhancedBudget`.\n",
    "\n",
    "In this new `EnhancedBudget` class, do the following:\n",
    "\n",
    "* add a new class attribute, `transactions`. This should be initialized when the `EnhancedBudget` is created and should default to being an empty dictionary (`{}`). This dictionary will have **budget categories as its keys** and the **values associated with each key will be a list of the transactions (in dollars)** logged for that category.\n",
    "* add a new class method, `log_transaction`, that takes two inputs: `category` and `amount`.\n",
    "  Using these two inputs, this method should for the following:\n",
    "    1. Check to see if the provided category is already in the `transactions` dictionary.\n",
    "    2. If it is, it should append the `amount` to the list of amounts that already exist in that category.\n",
    "    3. If it isn't already in the `transactions` dictionary, it should create a new list associated with that `category` key with the `amount` as the first entry in the list.\n",
    "\n",
    "With this new attribute and this new method, you should be able to log transactions in your new enhanced budget object!\n",
    "\n",
    "In order to see if your code is working, run the following cell. If everyting is set up correctly, it should output the following:\n",
    "```\n",
    "Income is 2000 dollars.\n",
    "Expenses total 1100 dollars.\n",
    "You are at or under budget. You have 900 dollars remaining.\n",
    "Transaction Log: {'Food': [7, 12.5], 'Rent': [750], 'Utilities': [20, 55]}\n",
    "```"
   ]
  },
  {
   "cell_type": "code",
   "execution_count": null,
   "metadata": {},
   "outputs": [],
   "source": [
    "# The magic command below instructs Jupyter Notebook to automatically load classes and methods from external files \n",
    "# in case they have changed from last load time;\n",
    "# This is needed when you change the Animal.py file\n",
    "%reload_ext autoreload\n",
    "%autoreload 2\n",
    "\n",
    "# Import the new class from the budget script\n",
    "from budget import EnhancedBudget\n",
    "\n",
    "# Define a new enhanced budget object\n",
    "my_budget = EnhancedBudget(2000)\n",
    "\n",
    "# Check that our inherited methods work\n",
    "my_budget.add_expense('Food', 200)\n",
    "my_budget.add_expense('Rent', 750)\n",
    "my_budget.add_expense('Utilities', 150)\n",
    "my_budget.check_budget()\n",
    "\n",
    "# Test the new functionality\n",
    "my_budget.log_transaction('Food',7)\n",
    "my_budget.log_transaction('Food',12.50)\n",
    "my_budget.log_transaction('Rent',750)\n",
    "my_budget.log_transaction('Utilities',20)\n",
    "my_budget.log_transaction('Utilities',55)\n",
    "print(\"Transaction Log:\",my_budget.transactions)"
   ]
  },
  {
   "cell_type": "markdown",
   "metadata": {},
   "source": [
    "#### Thinking about additional functionality\n",
    "\n",
    "Now that you have this new enhanced budget tool, let's think about what else we might be able to use it for.\n",
    "\n",
    "**&#9989; Question 3.2.2 (2 points)**: What if we wanted to compute the total cost of all transactions we had in **each category** at the end of the month? Perhaps we could create a `calculate_total_transactions` method for doing this? This would be really useful to see if our spending habits stay within our budget limits!\n",
    "\n",
    "**Without writing any code, explain how you would go about building such a method.** What would it need to do? How would it need to work? What would happen if there were no transactions logged in the budget? What would be the output look like? **Be as detailed as possible** so that if someone were trying to code up a solution based on your explanation, they would be able to do so.\n",
    "\n",
    "If you have trouble explaining how your code would work, try writing pseudocode or, if you like, feel free to try coding up a solution and show that it works. **No working code is actually required**."
   ]
  },
  {
   "cell_type": "markdown",
   "metadata": {},
   "source": [
    "**<font size=+3>&#9998;</font> Do This** - Erase the contents of this cell and replace it with your explanation for how you would write a `calculate_total_transactions` method."
   ]
  },
  {
   "cell_type": "markdown",
   "metadata": {},
   "source": [
    "---\n",
    "### &#128721; STOP\n",
    "**Pause to commit your changes to your Git repository!**\n",
    "\n",
    "Take a moment to save your notebook, commit the changes to your Git repository using the commit message \"Committing part 3.2\", and push the changes to GitHub. **Make sure you've added and committed your newest version of `budget.py` to your repository!**\n",
    "\n",
    "---"
   ]
  },
  {
   "cell_type": "markdown",
   "metadata": {},
   "source": [
    "---\n",
    "## Assignment wrap-up\n",
    "\n",
    "Please fill out the form that appears when you run the code below.  **You must completely fill this out in order to receive credit for the assignment!**"
   ]
  },
  {
   "cell_type": "code",
   "execution_count": null,
   "metadata": {},
   "outputs": [],
   "source": [
    "from IPython.display import HTML\n",
    "HTML(\n",
    "\"\"\"\n",
    "<iframe \n",
    "\tsrc=\"https://forms.office.com/Pages/ResponsePage.aspx?id=MHEXIi9k2UGSEXQjetVofddd5T-Pwn1DlT6_yoCyuCFUOE45QzdSMUcxTExOQkU3ODU2NlkwRFU1MS4u\" \n",
    "\twidth=\"800px\" \n",
    "\theight=\"600px\" \n",
    "\tframeborder=\"0\" \n",
    "\tmarginheight=\"0\" \n",
    "\tmarginwidth=\"0\">\n",
    "\tLoading...\n",
    "</iframe>\n",
    "\"\"\"\n",
    ")"
   ]
  },
  {
   "cell_type": "markdown",
   "metadata": {},
   "source": [
    "### Congratulations, you're done!\n",
    "\n",
    "Submit this assignment by uploading it to the course Desire2Learn web page.  Go to the \"Homework Assignments\" folder, find the dropbox link for Homework #2, and upload **both your notebook and your budget.py script** there."
   ]
  },
  {
   "cell_type": "markdown",
   "metadata": {},
   "source": [
    "&#169; Copyright 2021,  Department of Computational Mathematics, Science and Engineering at Michigan State University"
   ]
  }
 ],
 "metadata": {
  "anaconda-cloud": {},
  "kernelspec": {
   "display_name": "Python 3 (ipykernel)",
   "language": "python",
   "name": "python3"
  },
  "language_info": {
   "codemirror_mode": {
    "name": "ipython",
    "version": 3
   },
   "file_extension": ".py",
   "mimetype": "text/x-python",
   "name": "python",
   "nbconvert_exporter": "python",
   "pygments_lexer": "ipython3",
   "version": "3.8.11"
  }
 },
 "nbformat": 4,
 "nbformat_minor": 4
}
